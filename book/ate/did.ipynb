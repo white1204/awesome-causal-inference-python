{
 "cells": [
  {
   "cell_type": "markdown",
   "id": "2fa76ef6",
   "metadata": {},
   "source": [
    "# Difference-in-Difference (DiD)"
   ]
  },
  {
   "cell_type": "markdown",
   "id": "8a671f4c",
   "metadata": {},
   "source": [
    "- 출처\n",
    "    - 실무로 통하는 인과추론 with 파이썬"
   ]
  },
  {
   "cell_type": "code",
   "execution_count": 1,
   "id": "f1cc97bd",
   "metadata": {},
   "outputs": [
    {
     "name": "stdout",
     "output_type": "stream",
     "text": [
      "Requirement already satisfied: toolz in /Users/kimsieun/대학원/가짜연구소/11기/fack_cl/lib/python3.10/site-packages (1.0.0)\n",
      "\n",
      "\u001b[1m[\u001b[0m\u001b[34;49mnotice\u001b[0m\u001b[1;39;49m]\u001b[0m\u001b[39;49m A new release of pip is available: \u001b[0m\u001b[31;49m25.1.1\u001b[0m\u001b[39;49m -> \u001b[0m\u001b[32;49m25.2\u001b[0m\n",
      "\u001b[1m[\u001b[0m\u001b[34;49mnotice\u001b[0m\u001b[1;39;49m]\u001b[0m\u001b[39;49m To update, run: \u001b[0m\u001b[32;49mpip install --upgrade pip\u001b[0m\n"
     ]
    }
   ],
   "source": [
    "!pip install toolz"
   ]
  },
  {
   "cell_type": "markdown",
   "id": "3caf5c69",
   "metadata": {},
   "source": [
    "#### 가상환경 정보"
   ]
  },
  {
   "cell_type": "code",
   "execution_count": 5,
   "id": "7da54cf1",
   "metadata": {},
   "outputs": [
    {
     "name": "stdout",
     "output_type": "stream",
     "text": [
      "Python 3.10.16\n"
     ]
    }
   ],
   "source": [
    "!python --version"
   ]
  },
  {
   "cell_type": "code",
   "execution_count": 6,
   "id": "2958a91c",
   "metadata": {},
   "outputs": [
    {
     "name": "stdout",
     "output_type": "stream",
     "text": [
      "aiohappyeyeballs==2.6.1\n",
      "aiohttp==3.12.14\n",
      "aiosignal==1.4.0\n",
      "appnope==0.1.4\n",
      "asttokens==3.0.0\n",
      "async-timeout==5.0.1\n",
      "attrs==25.3.0\n",
      "babel==2.17.0\n",
      "causalml==0.15.5\n",
      "certifi==2025.7.9\n",
      "cffi==2.0.0\n",
      "charset-normalizer==3.4.2\n",
      "citeproc-py==0.8.2\n",
      "cloudpickle==3.1.1\n",
      "comm==0.2.2\n",
      "commonmark==0.9.1\n",
      "contourpy==1.3.2\n",
      "curl_cffi==0.13.0\n",
      "cycler==0.12.1\n",
      "debugpy==1.8.14\n",
      "decorator==5.2.1\n",
      "dill==0.4.0\n",
      "dotenv==0.9.9\n",
      "duecredit==0.10.2\n",
      "econml==0.16.0\n",
      "exceptiongroup==1.3.0\n",
      "executing==2.2.0\n",
      "faicons==0.2.2\n",
      "filelock==3.18.0\n",
      "fonttools==4.58.5\n",
      "forestci==0.6\n",
      "formulaic==1.2.0\n",
      "frozenlist==1.7.0\n",
      "fsspec==2025.7.0\n",
      "graphviz==0.21\n",
      "great-tables==0.18.0\n",
      "hf-xet==1.1.5\n",
      "htmltools==0.6.0\n",
      "huggingface-hub==0.34.1\n",
      "idna==3.10\n",
      "importlib_metadata==8.7.0\n",
      "importlib_resources==6.5.2\n",
      "interface-meta==1.3.0\n",
      "ipykernel==6.29.5\n",
      "ipython==8.37.0\n",
      "jedi==0.19.2\n",
      "joblib==1.5.1\n",
      "jupyter_client==8.6.3\n",
      "jupyter_core==5.8.1\n",
      "kiwisolver==1.4.8\n",
      "lightgbm==4.6.0\n",
      "llvmlite==0.44.0\n",
      "looseversion==1.3.0\n",
      "lxml==6.0.0\n",
      "matplotlib==3.10.3\n",
      "matplotlib-inline==0.1.7\n",
      "multidict==6.6.3\n",
      "multiprocess==0.70.18\n",
      "narwhals==2.5.0\n",
      "nest-asyncio==1.6.0\n",
      "numba==0.61.2\n",
      "numpy==2.2.6\n",
      "packaging==25.0\n",
      "pandas==2.3.1\n",
      "pandas-datareader==0.10.0\n",
      "parso==0.8.4\n",
      "pathos==0.2.9\n",
      "patsy==1.0.1\n",
      "pexpect==4.9.0\n",
      "pillow==11.3.0\n",
      "platformdirs==4.3.8\n",
      "pox==0.3.6\n",
      "ppft==1.7.7\n",
      "prompt_toolkit==3.0.51\n",
      "propcache==0.3.2\n",
      "psutil==7.0.0\n",
      "psycopg2-binary==2.9.10\n",
      "ptyprocess==0.7.0\n",
      "pure_eval==0.2.3\n",
      "pyarrow==21.0.0\n",
      "pycparser==2.23\n",
      "pydotplus==2.0.2\n",
      "pyfixest==0.30.2\n",
      "Pygments==2.19.2\n",
      "pyparsing==3.2.3\n",
      "python-dateutil==2.9.0.post0\n",
      "python-dotenv==1.1.1\n",
      "pytz==2025.2\n",
      "PyYAML==6.0.2\n",
      "pyzmq==27.0.0\n",
      "requests==2.32.4\n",
      "scikit-learn==1.6.1\n",
      "scipy==1.15.3\n",
      "seaborn==0.13.2\n",
      "shap==0.48.0\n",
      "six==1.17.0\n",
      "slicer==0.0.8\n",
      "sparse==0.17.0\n",
      "SQLAlchemy==2.0.43\n",
      "stack-data==0.6.3\n",
      "statsmodels==0.14.5\n",
      "tabulate==0.9.0\n",
      "threadpoolctl==3.6.0\n",
      "tidyfinance==0.1.2\n",
      "toolz==1.0.0\n",
      "tornado==6.5.1\n",
      "tqdm==4.67.1\n",
      "traitlets==5.14.3\n",
      "typing_extensions==4.14.1\n",
      "tzdata==2025.2\n",
      "urllib3==2.5.0\n",
      "wcwidth==0.2.13\n",
      "wrapt==1.17.3\n",
      "xgboost==3.0.2\n",
      "yarl==1.20.1\n",
      "zipp==3.23.0\n"
     ]
    }
   ],
   "source": [
    "!pip freeze"
   ]
  },
  {
   "cell_type": "markdown",
   "id": "ddc5fa7d",
   "metadata": {},
   "source": [
    "아래 tidyfinace패키지는 파이썬 3.10 이상의 환경에서 설치됩니다!"
   ]
  },
  {
   "cell_type": "code",
   "execution_count": 12,
   "id": "ac5e48f1",
   "metadata": {},
   "outputs": [
    {
     "name": "stdout",
     "output_type": "stream",
     "text": [
      "Collecting tidyfinance\n",
      "  Downloading tidyfinance-0.1.2-py3-none-any.whl.metadata (5.8 kB)\n",
      "Collecting curl-cffi>=0.10.0 (from tidyfinance)\n",
      "  Downloading curl_cffi-0.13.0-cp39-abi3-macosx_11_0_arm64.whl.metadata (13 kB)\n",
      "Collecting dotenv>=0.9.9 (from tidyfinance)\n",
      "  Downloading dotenv-0.9.9-py2.py3-none-any.whl.metadata (279 bytes)\n",
      "Requirement already satisfied: lxml>=5.3.1 in /Users/kimsieun/대학원/가짜연구소/11기/fack_cl/lib/python3.10/site-packages (from tidyfinance) (6.0.0)\n",
      "Requirement already satisfied: numpy>=1.26.0 in /Users/kimsieun/대학원/가짜연구소/11기/fack_cl/lib/python3.10/site-packages (from tidyfinance) (2.2.6)\n",
      "Collecting pandas-datareader>=0.10.0 (from tidyfinance)\n",
      "  Downloading pandas_datareader-0.10.0-py3-none-any.whl.metadata (2.9 kB)\n",
      "Requirement already satisfied: pandas>=2.2.0 in /Users/kimsieun/대학원/가짜연구소/11기/fack_cl/lib/python3.10/site-packages (from tidyfinance) (2.3.1)\n",
      "Collecting psycopg2-binary>=2.9.9 (from tidyfinance)\n",
      "  Downloading psycopg2_binary-2.9.10-cp310-cp310-macosx_14_0_arm64.whl.metadata (4.9 kB)\n",
      "Collecting pyarrow>=19.0.1 (from tidyfinance)\n",
      "  Downloading pyarrow-21.0.0-cp310-cp310-macosx_12_0_arm64.whl.metadata (3.3 kB)\n",
      "Requirement already satisfied: pyyaml>=6.0.2 in /Users/kimsieun/대학원/가짜연구소/11기/fack_cl/lib/python3.10/site-packages (from tidyfinance) (6.0.2)\n",
      "Requirement already satisfied: requests>=2.31.0 in /Users/kimsieun/대학원/가짜연구소/11기/fack_cl/lib/python3.10/site-packages (from tidyfinance) (2.32.4)\n",
      "Collecting sqlalchemy>=2.0.21 (from tidyfinance)\n",
      "  Downloading sqlalchemy-2.0.43-cp310-cp310-macosx_11_0_arm64.whl.metadata (9.6 kB)\n",
      "Requirement already satisfied: statsmodels>=0.14.0 in /Users/kimsieun/대학원/가짜연구소/11기/fack_cl/lib/python3.10/site-packages (from tidyfinance) (0.14.5)\n",
      "Collecting cffi>=1.12.0 (from curl-cffi>=0.10.0->tidyfinance)\n",
      "  Downloading cffi-2.0.0-cp310-cp310-macosx_11_0_arm64.whl.metadata (2.6 kB)\n",
      "Requirement already satisfied: certifi>=2024.2.2 in /Users/kimsieun/대학원/가짜연구소/11기/fack_cl/lib/python3.10/site-packages (from curl-cffi>=0.10.0->tidyfinance) (2025.7.9)\n",
      "Collecting pycparser (from cffi>=1.12.0->curl-cffi>=0.10.0->tidyfinance)\n",
      "  Downloading pycparser-2.23-py3-none-any.whl.metadata (993 bytes)\n",
      "Collecting python-dotenv (from dotenv>=0.9.9->tidyfinance)\n",
      "  Downloading python_dotenv-1.1.1-py3-none-any.whl.metadata (24 kB)\n",
      "Requirement already satisfied: python-dateutil>=2.8.2 in /Users/kimsieun/대학원/가짜연구소/11기/fack_cl/lib/python3.10/site-packages (from pandas>=2.2.0->tidyfinance) (2.9.0.post0)\n",
      "Requirement already satisfied: pytz>=2020.1 in /Users/kimsieun/대학원/가짜연구소/11기/fack_cl/lib/python3.10/site-packages (from pandas>=2.2.0->tidyfinance) (2025.2)\n",
      "Requirement already satisfied: tzdata>=2022.7 in /Users/kimsieun/대학원/가짜연구소/11기/fack_cl/lib/python3.10/site-packages (from pandas>=2.2.0->tidyfinance) (2025.2)\n",
      "Requirement already satisfied: six>=1.5 in /Users/kimsieun/대학원/가짜연구소/11기/fack_cl/lib/python3.10/site-packages (from python-dateutil>=2.8.2->pandas>=2.2.0->tidyfinance) (1.17.0)\n",
      "Requirement already satisfied: charset_normalizer<4,>=2 in /Users/kimsieun/대학원/가짜연구소/11기/fack_cl/lib/python3.10/site-packages (from requests>=2.31.0->tidyfinance) (3.4.2)\n",
      "Requirement already satisfied: idna<4,>=2.5 in /Users/kimsieun/대학원/가짜연구소/11기/fack_cl/lib/python3.10/site-packages (from requests>=2.31.0->tidyfinance) (3.10)\n",
      "Requirement already satisfied: urllib3<3,>=1.21.1 in /Users/kimsieun/대학원/가짜연구소/11기/fack_cl/lib/python3.10/site-packages (from requests>=2.31.0->tidyfinance) (2.5.0)\n",
      "Requirement already satisfied: typing-extensions>=4.6.0 in /Users/kimsieun/대학원/가짜연구소/11기/fack_cl/lib/python3.10/site-packages (from sqlalchemy>=2.0.21->tidyfinance) (4.14.1)\n",
      "Requirement already satisfied: scipy!=1.9.2,>=1.8 in /Users/kimsieun/대학원/가짜연구소/11기/fack_cl/lib/python3.10/site-packages (from statsmodels>=0.14.0->tidyfinance) (1.15.3)\n",
      "Requirement already satisfied: patsy>=0.5.6 in /Users/kimsieun/대학원/가짜연구소/11기/fack_cl/lib/python3.10/site-packages (from statsmodels>=0.14.0->tidyfinance) (1.0.1)\n",
      "Requirement already satisfied: packaging>=21.3 in /Users/kimsieun/대학원/가짜연구소/11기/fack_cl/lib/python3.10/site-packages (from statsmodels>=0.14.0->tidyfinance) (25.0)\n",
      "Downloading tidyfinance-0.1.2-py3-none-any.whl (27 kB)\n",
      "Downloading curl_cffi-0.13.0-cp39-abi3-macosx_11_0_arm64.whl (3.0 MB)\n",
      "\u001b[2K   \u001b[90m━━━━━━━━━━━━━━━━━━━━━━━━━━━━━━━━━━━━━━━━\u001b[0m \u001b[32m3.0/3.0 MB\u001b[0m \u001b[31m4.0 MB/s\u001b[0m eta \u001b[36m0:00:00\u001b[0ma \u001b[36m0:00:01\u001b[0m\n",
      "\u001b[?25hDownloading cffi-2.0.0-cp310-cp310-macosx_11_0_arm64.whl (180 kB)\n",
      "Downloading dotenv-0.9.9-py2.py3-none-any.whl (1.9 kB)\n",
      "Downloading pandas_datareader-0.10.0-py3-none-any.whl (109 kB)\n",
      "Downloading psycopg2_binary-2.9.10-cp310-cp310-macosx_14_0_arm64.whl (3.3 MB)\n",
      "\u001b[2K   \u001b[90m━━━━━━━━━━━━━━━━━━━━━━━━━━━━━━━━━━━━━━━━\u001b[0m \u001b[32m3.3/3.3 MB\u001b[0m \u001b[31m3.4 MB/s\u001b[0m eta \u001b[36m0:00:00\u001b[0ma \u001b[36m0:00:01\u001b[0m\n",
      "\u001b[?25hDownloading pyarrow-21.0.0-cp310-cp310-macosx_12_0_arm64.whl (31.2 MB)\n",
      "\u001b[2K   \u001b[90m━━━━━━━━━━━━━━━━━━━━━━━━━━━━━━━━━━━━━━━━\u001b[0m \u001b[32m31.2/31.2 MB\u001b[0m \u001b[31m3.5 MB/s\u001b[0m eta \u001b[36m0:00:00\u001b[0m00:01\u001b[0m00:01\u001b[0m\n",
      "\u001b[?25hDownloading sqlalchemy-2.0.43-cp310-cp310-macosx_11_0_arm64.whl (2.1 MB)\n",
      "\u001b[2K   \u001b[90m━━━━━━━━━━━━━━━━━━━━━━━━━━━━━━━━━━━━━━━━\u001b[0m \u001b[32m2.1/2.1 MB\u001b[0m \u001b[31m3.6 MB/s\u001b[0m eta \u001b[36m0:00:00\u001b[0ma \u001b[36m0:00:01\u001b[0m\n",
      "\u001b[?25hDownloading pycparser-2.23-py3-none-any.whl (118 kB)\n",
      "Downloading python_dotenv-1.1.1-py3-none-any.whl (20 kB)\n",
      "Installing collected packages: sqlalchemy, python-dotenv, pycparser, pyarrow, psycopg2-binary, dotenv, cffi, pandas-datareader, curl-cffi, tidyfinance\n",
      "\u001b[2K   \u001b[90m━━━━━━━━━━━━━━━━━━━━━━━━━━━━━━━━━━━━━━━━\u001b[0m \u001b[32m10/10\u001b[0m [tidyfinance]\u001b[0m [curl-cffi]areader]\n",
      "\u001b[1A\u001b[2KSuccessfully installed cffi-2.0.0 curl-cffi-0.13.0 dotenv-0.9.9 pandas-datareader-0.10.0 psycopg2-binary-2.9.10 pyarrow-21.0.0 pycparser-2.23 python-dotenv-1.1.1 sqlalchemy-2.0.43 tidyfinance-0.1.2\n",
      "\n",
      "\u001b[1m[\u001b[0m\u001b[34;49mnotice\u001b[0m\u001b[1;39;49m]\u001b[0m\u001b[39;49m A new release of pip is available: \u001b[0m\u001b[31;49m25.1.1\u001b[0m\u001b[39;49m -> \u001b[0m\u001b[32;49m25.2\u001b[0m\n",
      "\u001b[1m[\u001b[0m\u001b[34;49mnotice\u001b[0m\u001b[1;39;49m]\u001b[0m\u001b[39;49m To update, run: \u001b[0m\u001b[32;49mpip install --upgrade pip\u001b[0m\n"
     ]
    }
   ],
   "source": [
    "!pip install tidyfinance"
   ]
  },
  {
   "cell_type": "code",
   "execution_count": 19,
   "id": "d62490b8",
   "metadata": {},
   "outputs": [
    {
     "name": "stdout",
     "output_type": "stream",
     "text": [
      "Collecting pyfixest\n",
      "  Downloading pyfixest-0.30.2.tar.gz (4.1 MB)\n",
      "\u001b[2K     \u001b[90m━━━━━━━━━━━━━━━━━━━━━━━━━━━━━━━━━━━━━━━━\u001b[0m \u001b[32m4.1/4.1 MB\u001b[0m \u001b[31m3.5 MB/s\u001b[0m eta \u001b[36m0:00:00\u001b[0ma \u001b[36m0:00:01\u001b[0mm\n",
      "\u001b[?25h  Installing build dependencies ... \u001b[?25ldone\n",
      "\u001b[?25h  Getting requirements to build wheel ... \u001b[?25ldone\n",
      "\u001b[?25h  Installing backend dependencies ... \u001b[?25ldone\n",
      "\u001b[?25h  Preparing metadata (pyproject.toml) ... \u001b[?25ldone\n",
      "\u001b[?25hRequirement already satisfied: scipy<1.16,>=1.6 in /Users/kimsieun/대학원/가짜연구소/11기/fack_cl/lib/python3.10/site-packages (from pyfixest) (1.15.3)\n",
      "Collecting formulaic>=1.1.0 (from pyfixest)\n",
      "  Downloading formulaic-1.2.0-py3-none-any.whl.metadata (7.0 kB)\n",
      "Requirement already satisfied: pandas>=1.1.0 in /Users/kimsieun/대학원/가짜연구소/11기/fack_cl/lib/python3.10/site-packages (from pyfixest) (2.3.1)\n",
      "Requirement already satisfied: numba>=0.58.0 in /Users/kimsieun/대학원/가짜연구소/11기/fack_cl/lib/python3.10/site-packages (from pyfixest) (0.61.2)\n",
      "Requirement already satisfied: seaborn>=0.13.2 in /Users/kimsieun/대학원/가짜연구소/11기/fack_cl/lib/python3.10/site-packages (from pyfixest) (0.13.2)\n",
      "Collecting tabulate>=0.9.0 (from pyfixest)\n",
      "  Downloading tabulate-0.9.0-py3-none-any.whl.metadata (34 kB)\n",
      "Requirement already satisfied: tqdm>=4.0.0 in /Users/kimsieun/대학원/가짜연구소/11기/fack_cl/lib/python3.10/site-packages (from pyfixest) (4.67.1)\n",
      "Collecting great-tables>=0.10.0 (from pyfixest)\n",
      "  Downloading great_tables-0.18.0-py3-none-any.whl.metadata (12 kB)\n",
      "Requirement already satisfied: numpy>=1.25.2 in /Users/kimsieun/대학원/가짜연구소/11기/fack_cl/lib/python3.10/site-packages (from pyfixest) (2.2.6)\n",
      "Collecting narwhals>=1.13.3 (from pyfixest)\n",
      "  Downloading narwhals-2.5.0-py3-none-any.whl.metadata (11 kB)\n",
      "Requirement already satisfied: joblib<2,>=1.4.2 in /Users/kimsieun/대학원/가짜연구소/11기/fack_cl/lib/python3.10/site-packages (from pyfixest) (1.5.1)\n",
      "Collecting interface-meta>=1.2.0 (from formulaic>=1.1.0->pyfixest)\n",
      "  Downloading interface_meta-1.3.0-py3-none-any.whl.metadata (6.7 kB)\n",
      "Requirement already satisfied: typing-extensions>=4.2.0 in /Users/kimsieun/대학원/가짜연구소/11기/fack_cl/lib/python3.10/site-packages (from formulaic>=1.1.0->pyfixest) (4.14.1)\n",
      "Collecting wrapt>=1.0 (from formulaic>=1.1.0->pyfixest)\n",
      "  Downloading wrapt-1.17.3-cp310-cp310-macosx_11_0_arm64.whl.metadata (6.4 kB)\n",
      "Collecting commonmark>=0.9.1 (from great-tables>=0.10.0->pyfixest)\n",
      "  Downloading commonmark-0.9.1-py2.py3-none-any.whl.metadata (5.7 kB)\n",
      "Collecting faicons>=0.2.2 (from great-tables>=0.10.0->pyfixest)\n",
      "  Downloading faicons-0.2.2-py3-none-any.whl.metadata (1.8 kB)\n",
      "Collecting htmltools>=0.4.1 (from great-tables>=0.10.0->pyfixest)\n",
      "  Downloading htmltools-0.6.0-py3-none-any.whl.metadata (3.3 kB)\n",
      "Collecting importlib-metadata (from great-tables>=0.10.0->pyfixest)\n",
      "  Downloading importlib_metadata-8.7.0-py3-none-any.whl.metadata (4.8 kB)\n",
      "Collecting Babel>=2.13.1 (from great-tables>=0.10.0->pyfixest)\n",
      "  Downloading babel-2.17.0-py3-none-any.whl.metadata (2.0 kB)\n",
      "Collecting importlib-resources (from great-tables>=0.10.0->pyfixest)\n",
      "  Downloading importlib_resources-6.5.2-py3-none-any.whl.metadata (3.9 kB)\n",
      "Requirement already satisfied: packaging>=20.9 in /Users/kimsieun/대학원/가짜연구소/11기/fack_cl/lib/python3.10/site-packages (from htmltools>=0.4.1->great-tables>=0.10.0->pyfixest) (25.0)\n",
      "Requirement already satisfied: llvmlite<0.45,>=0.44.0dev0 in /Users/kimsieun/대학원/가짜연구소/11기/fack_cl/lib/python3.10/site-packages (from numba>=0.58.0->pyfixest) (0.44.0)\n",
      "Requirement already satisfied: python-dateutil>=2.8.2 in /Users/kimsieun/대학원/가짜연구소/11기/fack_cl/lib/python3.10/site-packages (from pandas>=1.1.0->pyfixest) (2.9.0.post0)\n",
      "Requirement already satisfied: pytz>=2020.1 in /Users/kimsieun/대학원/가짜연구소/11기/fack_cl/lib/python3.10/site-packages (from pandas>=1.1.0->pyfixest) (2025.2)\n",
      "Requirement already satisfied: tzdata>=2022.7 in /Users/kimsieun/대학원/가짜연구소/11기/fack_cl/lib/python3.10/site-packages (from pandas>=1.1.0->pyfixest) (2025.2)\n",
      "Requirement already satisfied: six>=1.5 in /Users/kimsieun/대학원/가짜연구소/11기/fack_cl/lib/python3.10/site-packages (from python-dateutil>=2.8.2->pandas>=1.1.0->pyfixest) (1.17.0)\n",
      "Requirement already satisfied: matplotlib!=3.6.1,>=3.4 in /Users/kimsieun/대학원/가짜연구소/11기/fack_cl/lib/python3.10/site-packages (from seaborn>=0.13.2->pyfixest) (3.10.3)\n",
      "Requirement already satisfied: contourpy>=1.0.1 in /Users/kimsieun/대학원/가짜연구소/11기/fack_cl/lib/python3.10/site-packages (from matplotlib!=3.6.1,>=3.4->seaborn>=0.13.2->pyfixest) (1.3.2)\n",
      "Requirement already satisfied: cycler>=0.10 in /Users/kimsieun/대학원/가짜연구소/11기/fack_cl/lib/python3.10/site-packages (from matplotlib!=3.6.1,>=3.4->seaborn>=0.13.2->pyfixest) (0.12.1)\n",
      "Requirement already satisfied: fonttools>=4.22.0 in /Users/kimsieun/대학원/가짜연구소/11기/fack_cl/lib/python3.10/site-packages (from matplotlib!=3.6.1,>=3.4->seaborn>=0.13.2->pyfixest) (4.58.5)\n",
      "Requirement already satisfied: kiwisolver>=1.3.1 in /Users/kimsieun/대학원/가짜연구소/11기/fack_cl/lib/python3.10/site-packages (from matplotlib!=3.6.1,>=3.4->seaborn>=0.13.2->pyfixest) (1.4.8)\n",
      "Requirement already satisfied: pillow>=8 in /Users/kimsieun/대학원/가짜연구소/11기/fack_cl/lib/python3.10/site-packages (from matplotlib!=3.6.1,>=3.4->seaborn>=0.13.2->pyfixest) (11.3.0)\n",
      "Requirement already satisfied: pyparsing>=2.3.1 in /Users/kimsieun/대학원/가짜연구소/11기/fack_cl/lib/python3.10/site-packages (from matplotlib!=3.6.1,>=3.4->seaborn>=0.13.2->pyfixest) (3.2.3)\n",
      "Collecting zipp>=3.20 (from importlib-metadata->great-tables>=0.10.0->pyfixest)\n",
      "  Downloading zipp-3.23.0-py3-none-any.whl.metadata (3.6 kB)\n",
      "Downloading formulaic-1.2.0-py3-none-any.whl (117 kB)\n",
      "Downloading great_tables-0.18.0-py3-none-any.whl (1.4 MB)\n",
      "\u001b[2K   \u001b[90m━━━━━━━━━━━━━━━━━━━━━━━━━━━━━━━━━━━━━━━━\u001b[0m \u001b[32m1.4/1.4 MB\u001b[0m \u001b[31m4.0 MB/s\u001b[0m eta \u001b[36m0:00:00\u001b[0ma \u001b[36m0:00:01\u001b[0m\n",
      "\u001b[?25hDownloading babel-2.17.0-py3-none-any.whl (10.2 MB)\n",
      "\u001b[2K   \u001b[90m━━━━━━━━━━━━━━━━━━━━━━━━━━━━━━━━━━━━━━━━\u001b[0m \u001b[32m10.2/10.2 MB\u001b[0m \u001b[31m3.5 MB/s\u001b[0m eta \u001b[36m0:00:00\u001b[0m \u001b[36m0:00:01\u001b[0m\n",
      "\u001b[?25hDownloading commonmark-0.9.1-py2.py3-none-any.whl (51 kB)\n",
      "Downloading faicons-0.2.2-py3-none-any.whl (607 kB)\n",
      "\u001b[2K   \u001b[90m━━━━━━━━━━━━━━━━━━━━━━━━━━━━━━━━━━━━━━━━\u001b[0m \u001b[32m607.2/607.2 kB\u001b[0m \u001b[31m6.1 MB/s\u001b[0m eta \u001b[36m0:00:00\u001b[0m\n",
      "\u001b[?25hDownloading htmltools-0.6.0-py3-none-any.whl (84 kB)\n",
      "Downloading interface_meta-1.3.0-py3-none-any.whl (14 kB)\n",
      "Downloading narwhals-2.5.0-py3-none-any.whl (407 kB)\n",
      "Downloading tabulate-0.9.0-py3-none-any.whl (35 kB)\n",
      "Downloading wrapt-1.17.3-cp310-cp310-macosx_11_0_arm64.whl (38 kB)\n",
      "Downloading importlib_metadata-8.7.0-py3-none-any.whl (27 kB)\n",
      "Downloading zipp-3.23.0-py3-none-any.whl (10 kB)\n",
      "Downloading importlib_resources-6.5.2-py3-none-any.whl (37 kB)\n",
      "Building wheels for collected packages: pyfixest\n",
      "  Building wheel for pyfixest (pyproject.toml) ... \u001b[?25ldone\n",
      "\u001b[?25h  Created wheel for pyfixest: filename=pyfixest-0.30.2-cp310-cp310-macosx_11_0_arm64.whl size=2472651 sha256=370ddae650fe4c72c542076a9601be833bf7a0307347c449c84550020a66d844\n",
      "  Stored in directory: /Users/kimsieun/Library/Caches/pip/wheels/3b/5b/80/a1c9daef56e29386e5317005354c6ed64b72034f35c7046fe5\n",
      "Successfully built pyfixest\n",
      "Installing collected packages: commonmark, zipp, wrapt, tabulate, narwhals, interface-meta, importlib-resources, htmltools, Babel, importlib-metadata, faicons, great-tables, formulaic, pyfixest\n",
      "\u001b[2K   \u001b[90m━━━━━━━━━━━━━━━━━━━━━━━━━━━━━━━━━━━━━━━━\u001b[0m \u001b[32m14/14\u001b[0m [pyfixest]/14\u001b[0m [pyfixest]]es]ources]\n",
      "\u001b[1A\u001b[2KSuccessfully installed Babel-2.17.0 commonmark-0.9.1 faicons-0.2.2 formulaic-1.2.0 great-tables-0.18.0 htmltools-0.6.0 importlib-metadata-8.7.0 importlib-resources-6.5.2 interface-meta-1.3.0 narwhals-2.5.0 pyfixest-0.30.2 tabulate-0.9.0 wrapt-1.17.3 zipp-3.23.0\n",
      "\n",
      "\u001b[1m[\u001b[0m\u001b[34;49mnotice\u001b[0m\u001b[1;39;49m]\u001b[0m\u001b[39;49m A new release of pip is available: \u001b[0m\u001b[31;49m25.1.1\u001b[0m\u001b[39;49m -> \u001b[0m\u001b[32;49m25.2\u001b[0m\n",
      "\u001b[1m[\u001b[0m\u001b[34;49mnotice\u001b[0m\u001b[1;39;49m]\u001b[0m\u001b[39;49m To update, run: \u001b[0m\u001b[32;49mpip install --upgrade pip\u001b[0m\n"
     ]
    }
   ],
   "source": [
    "!pip install pyfixest"
   ]
  },
  {
   "cell_type": "code",
   "execution_count": 8,
   "id": "2c650ac3",
   "metadata": {},
   "outputs": [],
   "source": [
    "import pyfixest as pf\n"
   ]
  },
  {
   "cell_type": "code",
   "execution_count": 9,
   "id": "a6d9bc21",
   "metadata": {
    "ExecuteTime": {
     "end_time": "2024-01-20T14:39:09.552555Z",
     "start_time": "2024-01-20T14:39:06.893550Z"
    },
    "tags": [
     "hide-input"
    ]
   },
   "outputs": [],
   "source": [
    "from toolz import *\n",
    "\n",
    "import pandas as pd\n",
    "import numpy as np\n",
    "\n",
    "import statsmodels.formula.api as smf\n",
    "\n",
    "import seaborn as sns\n",
    "from matplotlib import pyplot as plt\n",
    "import matplotlib\n",
    "\n",
    "from cycler import cycler\n",
    "\n",
    "color=['0.0', '0.4', '0.8']\n",
    "default_cycler = (cycler(color=color))\n",
    "linestyle=['-', '--', ':', '-.']\n",
    "marker=['o', 'v', 'd', 'p']\n",
    "\n",
    "plt.rc('axes', prop_cycle=default_cycler)"
   ]
  },
  {
   "cell_type": "code",
   "execution_count": null,
   "id": "d17c7963",
   "metadata": {
    "ExecuteTime": {
     "end_time": "2024-01-20T14:39:09.589128Z",
     "start_time": "2024-01-20T14:39:09.554340Z"
    }
   },
   "outputs": [
    {
     "data": {
      "text/html": [
       "<div>\n",
       "<style scoped>\n",
       "    .dataframe tbody tr th:only-of-type {\n",
       "        vertical-align: middle;\n",
       "    }\n",
       "\n",
       "    .dataframe tbody tr th {\n",
       "        vertical-align: top;\n",
       "    }\n",
       "\n",
       "    .dataframe thead th {\n",
       "        text-align: right;\n",
       "    }\n",
       "</style>\n",
       "<table border=\"1\" class=\"dataframe\">\n",
       "  <thead>\n",
       "    <tr style=\"text-align: right;\">\n",
       "      <th></th>\n",
       "      <th>date</th>\n",
       "      <th>city</th>\n",
       "      <th>region</th>\n",
       "      <th>treated</th>\n",
       "      <th>tau</th>\n",
       "      <th>downloads</th>\n",
       "      <th>post</th>\n",
       "    </tr>\n",
       "  </thead>\n",
       "  <tbody>\n",
       "    <tr>\n",
       "      <th>0</th>\n",
       "      <td>2021-05-01</td>\n",
       "      <td>5</td>\n",
       "      <td>S</td>\n",
       "      <td>0</td>\n",
       "      <td>0.0</td>\n",
       "      <td>51.0</td>\n",
       "      <td>0</td>\n",
       "    </tr>\n",
       "    <tr>\n",
       "      <th>1</th>\n",
       "      <td>2021-05-02</td>\n",
       "      <td>5</td>\n",
       "      <td>S</td>\n",
       "      <td>0</td>\n",
       "      <td>0.0</td>\n",
       "      <td>51.0</td>\n",
       "      <td>0</td>\n",
       "    </tr>\n",
       "    <tr>\n",
       "      <th>2</th>\n",
       "      <td>2021-05-03</td>\n",
       "      <td>5</td>\n",
       "      <td>S</td>\n",
       "      <td>0</td>\n",
       "      <td>0.0</td>\n",
       "      <td>51.0</td>\n",
       "      <td>0</td>\n",
       "    </tr>\n",
       "    <tr>\n",
       "      <th>3</th>\n",
       "      <td>2021-05-04</td>\n",
       "      <td>5</td>\n",
       "      <td>S</td>\n",
       "      <td>0</td>\n",
       "      <td>0.0</td>\n",
       "      <td>50.0</td>\n",
       "      <td>0</td>\n",
       "    </tr>\n",
       "    <tr>\n",
       "      <th>4</th>\n",
       "      <td>2021-05-05</td>\n",
       "      <td>5</td>\n",
       "      <td>S</td>\n",
       "      <td>0</td>\n",
       "      <td>0.0</td>\n",
       "      <td>49.0</td>\n",
       "      <td>0</td>\n",
       "    </tr>\n",
       "  </tbody>\n",
       "</table>\n",
       "</div>"
      ],
      "text/plain": [
       "        date  city region  treated  tau  downloads  post\n",
       "0 2021-05-01     5      S        0  0.0       51.0     0\n",
       "1 2021-05-02     5      S        0  0.0       51.0     0\n",
       "2 2021-05-03     5      S        0  0.0       51.0     0\n",
       "3 2021-05-04     5      S        0  0.0       50.0     0\n",
       "4 2021-05-05     5      S        0  0.0       49.0     0"
      ]
     },
     "execution_count": 15,
     "metadata": {},
     "output_type": "execute_result"
    }
   ],
   "source": [
    "import pandas as pd\n",
    "import numpy as np\n",
    "\n",
    "mkt_data = (pd.read_csv(\"../data/matheus_data/short_offline_mkt_south.csv\")\n",
    "           .astype({\"date\":\"datetime64[ns]\"}))\n",
    "\n",
    "\n",
    "\n",
    "\n",
    "mkt_data.head()"
   ]
  },
  {
   "cell_type": "markdown",
   "id": "d7b53c33",
   "metadata": {},
   "source": [
    "처치 개입 전후 기간 확인"
   ]
  },
  {
   "cell_type": "code",
   "execution_count": 16,
   "id": "3d6cdba1",
   "metadata": {
    "ExecuteTime": {
     "end_time": "2024-01-20T14:39:09.608185Z",
     "start_time": "2024-01-20T14:39:09.594150Z"
    }
   },
   "outputs": [
    {
     "name": "stderr",
     "output_type": "stream",
     "text": [
      "/var/folders/qj/p1t8n_615hx2wgwh8350jg6h0000gn/T/ipykernel_21522/2583971365.py:4: FutureWarning: The provided callable <built-in function min> is currently using SeriesGroupBy.min. In a future version of pandas, the provided callable will be used directly. To keep current behavior pass the string \"min\" instead.\n",
      "  .agg({\"date\":[min, max]}))\n",
      "/var/folders/qj/p1t8n_615hx2wgwh8350jg6h0000gn/T/ipykernel_21522/2583971365.py:4: FutureWarning: The provided callable <built-in function max> is currently using SeriesGroupBy.max. In a future version of pandas, the provided callable will be used directly. To keep current behavior pass the string \"max\" instead.\n",
      "  .agg({\"date\":[min, max]}))\n"
     ]
    },
    {
     "data": {
      "text/html": [
       "<div>\n",
       "<style scoped>\n",
       "    .dataframe tbody tr th:only-of-type {\n",
       "        vertical-align: middle;\n",
       "    }\n",
       "\n",
       "    .dataframe tbody tr th {\n",
       "        vertical-align: top;\n",
       "    }\n",
       "\n",
       "    .dataframe thead tr th {\n",
       "        text-align: left;\n",
       "    }\n",
       "\n",
       "    .dataframe thead tr:last-of-type th {\n",
       "        text-align: right;\n",
       "    }\n",
       "</style>\n",
       "<table border=\"1\" class=\"dataframe\">\n",
       "  <thead>\n",
       "    <tr>\n",
       "      <th></th>\n",
       "      <th colspan=\"2\" halign=\"left\">date</th>\n",
       "    </tr>\n",
       "    <tr>\n",
       "      <th></th>\n",
       "      <th>min</th>\n",
       "      <th>max</th>\n",
       "    </tr>\n",
       "    <tr>\n",
       "      <th>w</th>\n",
       "      <th></th>\n",
       "      <th></th>\n",
       "    </tr>\n",
       "  </thead>\n",
       "  <tbody>\n",
       "    <tr>\n",
       "      <th>0</th>\n",
       "      <td>2021-05-01</td>\n",
       "      <td>2021-06-01</td>\n",
       "    </tr>\n",
       "    <tr>\n",
       "      <th>1</th>\n",
       "      <td>2021-05-15</td>\n",
       "      <td>2021-06-01</td>\n",
       "    </tr>\n",
       "  </tbody>\n",
       "</table>\n",
       "</div>"
      ],
      "text/plain": [
       "        date           \n",
       "         min        max\n",
       "w                      \n",
       "0 2021-05-01 2021-06-01\n",
       "1 2021-05-15 2021-06-01"
      ]
     },
     "execution_count": 16,
     "metadata": {},
     "output_type": "execute_result"
    }
   ],
   "source": [
    "(mkt_data\n",
    " .assign(w = lambda d: d[\"treated\"]*d[\"post\"])\n",
    " .groupby([\"w\"])\n",
    " .agg({\"date\":[min, max]}))"
   ]
  },
  {
   "cell_type": "code",
   "execution_count": 17,
   "id": "355d9c2c",
   "metadata": {
    "ExecuteTime": {
     "end_time": "2024-01-20T14:39:09.622154Z",
     "start_time": "2024-01-20T14:39:09.611867Z"
    }
   },
   "outputs": [
    {
     "data": {
      "text/html": [
       "<div>\n",
       "<style scoped>\n",
       "    .dataframe tbody tr th:only-of-type {\n",
       "        vertical-align: middle;\n",
       "    }\n",
       "\n",
       "    .dataframe tbody tr th {\n",
       "        vertical-align: top;\n",
       "    }\n",
       "\n",
       "    .dataframe thead th {\n",
       "        text-align: right;\n",
       "    }\n",
       "</style>\n",
       "<table border=\"1\" class=\"dataframe\">\n",
       "  <thead>\n",
       "    <tr style=\"text-align: right;\">\n",
       "      <th></th>\n",
       "      <th></th>\n",
       "      <th>downloads</th>\n",
       "      <th>date</th>\n",
       "    </tr>\n",
       "    <tr>\n",
       "      <th>treated</th>\n",
       "      <th>post</th>\n",
       "      <th></th>\n",
       "      <th></th>\n",
       "    </tr>\n",
       "  </thead>\n",
       "  <tbody>\n",
       "    <tr>\n",
       "      <th rowspan=\"2\" valign=\"top\">0</th>\n",
       "      <th>0</th>\n",
       "      <td>50.335034</td>\n",
       "      <td>2021-05-01</td>\n",
       "    </tr>\n",
       "    <tr>\n",
       "      <th>1</th>\n",
       "      <td>50.556878</td>\n",
       "      <td>2021-05-15</td>\n",
       "    </tr>\n",
       "    <tr>\n",
       "      <th rowspan=\"2\" valign=\"top\">1</th>\n",
       "      <th>0</th>\n",
       "      <td>50.944444</td>\n",
       "      <td>2021-05-01</td>\n",
       "    </tr>\n",
       "    <tr>\n",
       "      <th>1</th>\n",
       "      <td>51.858025</td>\n",
       "      <td>2021-05-15</td>\n",
       "    </tr>\n",
       "  </tbody>\n",
       "</table>\n",
       "</div>"
      ],
      "text/plain": [
       "              downloads       date\n",
       "treated post                      \n",
       "0       0     50.335034 2021-05-01\n",
       "        1     50.556878 2021-05-15\n",
       "1       0     50.944444 2021-05-01\n",
       "        1     51.858025 2021-05-15"
      ]
     },
     "execution_count": 17,
     "metadata": {},
     "output_type": "execute_result"
    }
   ],
   "source": [
    "did_data = (mkt_data\n",
    "            .groupby([\"treated\", \"post\"])\n",
    "            .agg({\"downloads\":\"mean\", \"date\": \"min\"}))\n",
    "\n",
    "did_data"
   ]
  },
  {
   "cell_type": "markdown",
   "id": "2614a652",
   "metadata": {},
   "source": [
    "### 이중 차분법에 대한 접근법 3가지\n",
    "1. 각 그룹별 평균을 집계 - 평균을 이용한 이중 차분법(Basic DID 2x2)\n",
    "2. 각 집단의 사전→사후 변화량을 구한 후, 두 집단의 변화량 차이를 비교 - 시간에 따른 결과 변화 값을 이용한 이중차분법\n",
    "3. 선형회귀\n",
    "    - 기본 회귀 DID\n",
    "    - Control DID (추가 통제 포함)\n",
    "    - TWFE DID (이원고정효과 포함)\n"
   ]
  },
  {
   "cell_type": "markdown",
   "id": "e911d8b1",
   "metadata": {},
   "source": [
    "#### 평균을 이용한 이중 차분법(Basic DID 2x2)"
   ]
  },
  {
   "cell_type": "code",
   "execution_count": 18,
   "id": "79bcb7fe",
   "metadata": {
    "ExecuteTime": {
     "end_time": "2024-01-20T14:39:09.632122Z",
     "start_time": "2024-01-20T14:39:09.624048Z"
    }
   },
   "outputs": [
    {
     "data": {
      "text/plain": [
       "np.float64(0.6917359536407233)"
      ]
     },
     "execution_count": 18,
     "metadata": {},
     "output_type": "execute_result"
    }
   ],
   "source": [
    "y0_est = (did_data.loc[1].loc[0, \"downloads\"] # treated baseline\n",
    "          # control evolution\n",
    "          + did_data.loc[0].diff().loc[1, \"downloads\"]) \n",
    "\n",
    "att = did_data.loc[1].loc[1, \"downloads\"] - y0_est\n",
    "att"
   ]
  },
  {
   "cell_type": "code",
   "execution_count": 19,
   "id": "b51d6822",
   "metadata": {
    "ExecuteTime": {
     "end_time": "2024-01-20T14:39:09.640871Z",
     "start_time": "2024-01-20T14:39:09.633597Z"
    }
   },
   "outputs": [
    {
     "data": {
      "text/plain": [
       "np.float64(0.7660316402518457)"
      ]
     },
     "execution_count": 19,
     "metadata": {},
     "output_type": "execute_result"
    }
   ],
   "source": [
    "mkt_data.query(\"post==1\").query(\"treated==1\")[\"tau\"].mean()"
   ]
  },
  {
   "cell_type": "markdown",
   "id": "47458e38",
   "metadata": {},
   "source": [
    "#### 시간에 따른 결과 변화 값을 이용한 이중차분법"
   ]
  },
  {
   "cell_type": "code",
   "execution_count": 20,
   "id": "10e16d8d",
   "metadata": {
    "ExecuteTime": {
     "end_time": "2024-01-20T14:39:09.656244Z",
     "start_time": "2024-01-20T14:39:09.642523Z"
    }
   },
   "outputs": [
    {
     "data": {
      "text/html": [
       "<div>\n",
       "<style scoped>\n",
       "    .dataframe tbody tr th:only-of-type {\n",
       "        vertical-align: middle;\n",
       "    }\n",
       "\n",
       "    .dataframe tbody tr th {\n",
       "        vertical-align: top;\n",
       "    }\n",
       "\n",
       "    .dataframe thead th {\n",
       "        text-align: right;\n",
       "    }\n",
       "</style>\n",
       "<table border=\"1\" class=\"dataframe\">\n",
       "  <thead>\n",
       "    <tr style=\"text-align: right;\">\n",
       "      <th></th>\n",
       "      <th>delta_y</th>\n",
       "      <th>treated</th>\n",
       "    </tr>\n",
       "    <tr>\n",
       "      <th>city</th>\n",
       "      <th></th>\n",
       "      <th></th>\n",
       "    </tr>\n",
       "  </thead>\n",
       "  <tbody>\n",
       "    <tr>\n",
       "      <th>192</th>\n",
       "      <td>0.555556</td>\n",
       "      <td>0</td>\n",
       "    </tr>\n",
       "    <tr>\n",
       "      <th>193</th>\n",
       "      <td>0.166667</td>\n",
       "      <td>0</td>\n",
       "    </tr>\n",
       "    <tr>\n",
       "      <th>195</th>\n",
       "      <td>0.420635</td>\n",
       "      <td>0</td>\n",
       "    </tr>\n",
       "    <tr>\n",
       "      <th>196</th>\n",
       "      <td>0.119048</td>\n",
       "      <td>0</td>\n",
       "    </tr>\n",
       "    <tr>\n",
       "      <th>197</th>\n",
       "      <td>1.595238</td>\n",
       "      <td>1</td>\n",
       "    </tr>\n",
       "  </tbody>\n",
       "</table>\n",
       "</div>"
      ],
      "text/plain": [
       "       delta_y  treated\n",
       "city                   \n",
       "192   0.555556        0\n",
       "193   0.166667        0\n",
       "195   0.420635        0\n",
       "196   0.119048        0\n",
       "197   1.595238        1"
      ]
     },
     "execution_count": 20,
     "metadata": {},
     "output_type": "execute_result"
    }
   ],
   "source": [
    "pre = mkt_data.query(\"post==0\").groupby(\"city\")[\"downloads\"].mean()\n",
    "post = mkt_data.query(\"post==1\").groupby(\"city\")[\"downloads\"].mean()\n",
    "\n",
    "delta_y = ((post - pre)\n",
    "           .rename(\"delta_y\")\n",
    "           .to_frame()\n",
    "           # add the treatment dummy\n",
    "           .join(mkt_data.groupby(\"city\")[\"treated\"].max()))\n",
    "\n",
    "delta_y.tail()"
   ]
  },
  {
   "cell_type": "code",
   "execution_count": 21,
   "id": "31be6542",
   "metadata": {
    "ExecuteTime": {
     "end_time": "2024-01-20T14:39:09.665299Z",
     "start_time": "2024-01-20T14:39:09.659783Z"
    }
   },
   "outputs": [
    {
     "data": {
      "text/plain": [
       "np.float64(0.6917359536407155)"
      ]
     },
     "execution_count": 21,
     "metadata": {},
     "output_type": "execute_result"
    }
   ],
   "source": [
    "(delta_y.query(\"treated==1\")[\"delta_y\"].mean() \n",
    " - delta_y.query(\"treated==0\")[\"delta_y\"].mean())"
   ]
  },
  {
   "cell_type": "markdown",
   "id": "3d9eee06",
   "metadata": {},
   "source": [
    "DID 모형에 따른 실험군과 대조군의 추세 및 실험군의 가상적(반사실적) 추세"
   ]
  },
  {
   "cell_type": "code",
   "execution_count": 22,
   "id": "ff0261df",
   "metadata": {
    "ExecuteTime": {
     "end_time": "2024-01-20T14:39:09.877683Z",
     "start_time": "2024-01-20T14:39:09.666729Z"
    },
    "tags": [
     "hide-input"
    ]
   },
   "outputs": [
    {
     "data": {
      "text/plain": [
       "<matplotlib.legend.Legend at 0x16182c610>"
      ]
     },
     "execution_count": 22,
     "metadata": {},
     "output_type": "execute_result"
    },
    {
     "data": {
      "image/png": "[encoded data removed]",
      "text/plain": [
       "<Figure size 1000x400 with 1 Axes>"
      ]
     },
     "metadata": {},
     "output_type": "display_data"
    }
   ],
   "source": [
    "did_plt = did_data.reset_index()\n",
    "\n",
    "\n",
    "plt.figure(figsize=(10,4))\n",
    "\n",
    "sns.scatterplot(data=did_plt.query(\"treated==0\"), x=\"date\", y=\"downloads\", s=100, color=\"C0\", marker=\"s\")\n",
    "sns.lineplot(data=did_plt.query(\"treated==0\"), x=\"date\", y=\"downloads\", label=\"Control\", color=\"C0\")\n",
    "\n",
    "sns.scatterplot(data=did_plt.query(\"treated==1\"), x=\"date\", y=\"downloads\", s=100, color=\"C1\", marker=\"x\")\n",
    "sns.lineplot(data=did_plt.query(\"treated==1\"), x=\"date\", y=\"downloads\", label=\"Treated\", color=\"C1\",)\n",
    "\n",
    "plt.plot(did_data.loc[1, \"date\"], [did_data.loc[1, \"downloads\"][0], y0_est], color=\"C2\", linestyle=\"dashed\", label=\"Y(0)|D=1\")\n",
    "plt.scatter(did_data.loc[1, \"date\"], [did_data.loc[1, \"downloads\"][0], y0_est], color=\"C2\", s=50)\n",
    "\n",
    "plt.xticks(rotation = 45)\n",
    "plt.legend()\n"
   ]
  },
  {
   "cell_type": "markdown",
   "id": "7d388983",
   "metadata": {},
   "source": [
    "### 선형회귀를 이용한 이중차분법(Regression DID)"
   ]
  },
  {
   "cell_type": "markdown",
   "id": "b8dd4569",
   "metadata": {},
   "source": [
    "#### 개입 전/후 기간을 하나의 블록으로 집계한 데이터"
   ]
  },
  {
   "cell_type": "code",
   "execution_count": 23,
   "id": "bead249f",
   "metadata": {
    "ExecuteTime": {
     "end_time": "2024-01-20T14:39:09.887639Z",
     "start_time": "2024-01-20T14:39:09.879115Z"
    },
    "scrolled": true
   },
   "outputs": [
    {
     "data": {
      "text/html": [
       "<div>\n",
       "<style scoped>\n",
       "    .dataframe tbody tr th:only-of-type {\n",
       "        vertical-align: middle;\n",
       "    }\n",
       "\n",
       "    .dataframe tbody tr th {\n",
       "        vertical-align: top;\n",
       "    }\n",
       "\n",
       "    .dataframe thead th {\n",
       "        text-align: right;\n",
       "    }\n",
       "</style>\n",
       "<table border=\"1\" class=\"dataframe\">\n",
       "  <thead>\n",
       "    <tr style=\"text-align: right;\">\n",
       "      <th></th>\n",
       "      <th>city</th>\n",
       "      <th>post</th>\n",
       "      <th>downloads</th>\n",
       "      <th>date</th>\n",
       "      <th>treated</th>\n",
       "    </tr>\n",
       "  </thead>\n",
       "  <tbody>\n",
       "    <tr>\n",
       "      <th>0</th>\n",
       "      <td>5</td>\n",
       "      <td>0</td>\n",
       "      <td>50.642857</td>\n",
       "      <td>2021-05-01</td>\n",
       "      <td>0</td>\n",
       "    </tr>\n",
       "    <tr>\n",
       "      <th>1</th>\n",
       "      <td>5</td>\n",
       "      <td>1</td>\n",
       "      <td>50.166667</td>\n",
       "      <td>2021-05-15</td>\n",
       "      <td>0</td>\n",
       "    </tr>\n",
       "    <tr>\n",
       "      <th>2</th>\n",
       "      <td>15</td>\n",
       "      <td>0</td>\n",
       "      <td>49.142857</td>\n",
       "      <td>2021-05-01</td>\n",
       "      <td>0</td>\n",
       "    </tr>\n",
       "    <tr>\n",
       "      <th>3</th>\n",
       "      <td>15</td>\n",
       "      <td>1</td>\n",
       "      <td>49.166667</td>\n",
       "      <td>2021-05-15</td>\n",
       "      <td>0</td>\n",
       "    </tr>\n",
       "    <tr>\n",
       "      <th>4</th>\n",
       "      <td>20</td>\n",
       "      <td>0</td>\n",
       "      <td>48.785714</td>\n",
       "      <td>2021-05-01</td>\n",
       "      <td>0</td>\n",
       "    </tr>\n",
       "  </tbody>\n",
       "</table>\n",
       "</div>"
      ],
      "text/plain": [
       "   city  post  downloads       date  treated\n",
       "0     5     0  50.642857 2021-05-01        0\n",
       "1     5     1  50.166667 2021-05-15        0\n",
       "2    15     0  49.142857 2021-05-01        0\n",
       "3    15     1  49.166667 2021-05-15        0\n",
       "4    20     0  48.785714 2021-05-01        0"
      ]
     },
     "execution_count": 23,
     "metadata": {},
     "output_type": "execute_result"
    }
   ],
   "source": [
    "did_data = (mkt_data\n",
    "            .groupby([\"city\", \"post\"])\n",
    "            .agg({\"downloads\":\"mean\", \"date\": \"min\", \"treated\": \"max\"})\n",
    "            .reset_index())\n",
    "\n",
    "did_data.head()"
   ]
  },
  {
   "cell_type": "markdown",
   "id": "6cb1e2e6",
   "metadata": {},
   "source": [
    " `statsmodels`와 `pyfixest`\n",
    "\n",
    "DID 분석을 회귀 모형으로 구현할 때,\n",
    "- **statsmodels (smf)** 은 파이썬에서 가장 널리 쓰이는 범용 회귀 패키지라 기본 구현을 설명하기에 적합합니다.  \n",
    "- 그러나 DID는 본질적으로 **패널 데이터 + 고정효과(FE) + 클러스터 표준오차**가 중요합니다.  \n",
    "  이를 편리하게 지원하는 패키지가 바로 **pyfixest**입니다.\n",
    "\n",
    "따라서 \n",
    "- statsmodels로는 DID의 기본 원리를 쉽게 보여줄 수 있고,  \n",
    "- pyfixest로는 실제 실증연구에서 사용하는 **FE-DID, TWFE, robust SE**를 더 직관적으로 구현할 수 있습니다."
   ]
  },
  {
   "cell_type": "code",
   "execution_count": 24,
   "id": "54757217",
   "metadata": {
    "ExecuteTime": {
     "end_time": "2024-01-20T14:39:09.896935Z",
     "start_time": "2024-01-20T14:39:09.889021Z"
    }
   },
   "outputs": [
    {
     "data": {
      "text/plain": [
       "np.float64(0.6917359536407082)"
      ]
     },
     "execution_count": 24,
     "metadata": {},
     "output_type": "execute_result"
    }
   ],
   "source": [
    "import statsmodels.formula.api as smf\n",
    "\n",
    "smf.ols(\n",
    "    'downloads ~ treated*post', data=did_data\n",
    ").fit().params[\"treated:post\"]"
   ]
  },
  {
   "cell_type": "code",
   "execution_count": 25,
   "id": "463a35ef",
   "metadata": {},
   "outputs": [
    {
     "name": "stdout",
     "output_type": "stream",
     "text": [
      "DID estimate: 0.6917359536407451\n"
     ]
    }
   ],
   "source": [
    "import pyfixest as pf\n",
    "\n",
    "model = pf.feols(\"downloads ~ treated*post\", data=did_data)\n",
    "\n",
    "# DID 추정치 (treated:post 계수)\n",
    "coef = model.coef()[\"treated:post\"]\n",
    "print(\"DID estimate:\", coef)"
   ]
  },
  {
   "cell_type": "markdown",
   "id": "48ef6933",
   "metadata": {},
   "source": [
    "### 블록디자인을 바탕으로 한 이중차분법\n",
    "- DID를 추정할때 처치 전후로 각 값들을 그룹화하여 하지 않고 각 시점의 데이터를 모두 활용하는 방법과\n",
    "- 사전 평행 추세를 검정할 수 있다는 장점이 있습니다.\n"
   ]
  },
  {
   "cell_type": "code",
   "execution_count": 26,
   "id": "d1eed2c4",
   "metadata": {
    "ExecuteTime": {
     "end_time": "2024-01-20T14:39:11.143922Z",
     "start_time": "2024-01-20T14:39:09.915271Z"
    },
    "tags": [
     "hide-input"
    ]
   },
   "outputs": [
    {
     "name": "stderr",
     "output_type": "stream",
     "text": [
      "/var/folders/qj/p1t8n_615hx2wgwh8350jg6h0000gn/T/ipykernel_21522/2621860921.py:7: FutureWarning: The provided callable <built-in function max> is currently using SeriesGroupBy.max. In a future version of pandas, the provided callable will be used directly. To keep current behavior pass the string \"max\" instead.\n",
      "  .assign(treated=lambda d: d.groupby(\"city\")[\"treated\"].transform(max))\n",
      "INFO:matplotlib.category:Using categorical units to plot a list of strings that are all parsable as floats or dates. If these strings should be plotted as numbers, cast to the appropriate data type before plotting.\n",
      "INFO:matplotlib.category:Using categorical units to plot a list of strings that are all parsable as floats or dates. If these strings should be plotted as numbers, cast to the appropriate data type before plotting.\n",
      "INFO:matplotlib.category:Using categorical units to plot a list of strings that are all parsable as floats or dates. If these strings should be plotted as numbers, cast to the appropriate data type before plotting.\n"
     ]
    },
    {
     "data": {
      "text/plain": [
       "(array([ 0.5,  1.5,  2.5,  3.5,  4.5,  5.5,  6.5,  7.5,  8.5,  9.5, 10.5,\n",
       "        11.5, 12.5, 13.5, 14.5, 15.5, 16.5, 17.5, 18.5, 19.5, 20.5, 21.5,\n",
       "        22.5, 23.5, 24.5, 25.5, 26.5, 27.5, 28.5, 29.5, 30.5, 31.5]),\n",
       " [Text(0.5, 0, '2021-05-01'),\n",
       "  Text(1.5, 0, '2021-05-02'),\n",
       "  Text(2.5, 0, '2021-05-03'),\n",
       "  Text(3.5, 0, '2021-05-04'),\n",
       "  Text(4.5, 0, '2021-05-05'),\n",
       "  Text(5.5, 0, '2021-05-06'),\n",
       "  Text(6.5, 0, '2021-05-07'),\n",
       "  Text(7.5, 0, '2021-05-08'),\n",
       "  Text(8.5, 0, '2021-05-09'),\n",
       "  Text(9.5, 0, '2021-05-10'),\n",
       "  Text(10.5, 0, '2021-05-11'),\n",
       "  Text(11.5, 0, '2021-05-12'),\n",
       "  Text(12.5, 0, '2021-05-13'),\n",
       "  Text(13.5, 0, '2021-05-14'),\n",
       "  Text(14.5, 0, '2021-05-15'),\n",
       "  Text(15.5, 0, '2021-05-16'),\n",
       "  Text(16.5, 0, '2021-05-17'),\n",
       "  Text(17.5, 0, '2021-05-18'),\n",
       "  Text(18.5, 0, '2021-05-19'),\n",
       "  Text(19.5, 0, '2021-05-20'),\n",
       "  Text(20.5, 0, '2021-05-21'),\n",
       "  Text(21.5, 0, '2021-05-22'),\n",
       "  Text(22.5, 0, '2021-05-23'),\n",
       "  Text(23.5, 0, '2021-05-24'),\n",
       "  Text(24.5, 0, '2021-05-25'),\n",
       "  Text(25.5, 0, '2021-05-26'),\n",
       "  Text(26.5, 0, '2021-05-27'),\n",
       "  Text(27.5, 0, '2021-05-28'),\n",
       "  Text(28.5, 0, '2021-05-29'),\n",
       "  Text(29.5, 0, '2021-05-30'),\n",
       "  Text(30.5, 0, '2021-05-31'),\n",
       "  Text(31.5, 0, '2021-06-01')])"
      ]
     },
     "execution_count": 26,
     "metadata": {},
     "output_type": "execute_result"
    },
    {
     "data": {
      "image/png": "[encoded data removed]",
      "text/plain": [
       "<Figure size 900x1200 with 2 Axes>"
      ]
     },
     "metadata": {},
     "output_type": "display_data"
    }
   ],
   "source": [
    "import matplotlib.ticker as plticker\n",
    "\n",
    "\n",
    "fig, (ax1, ax2) = plt.subplots(2,1, figsize=(9, 12), sharex=True)\n",
    "\n",
    "heat_plt = (mkt_data\n",
    "            .assign(treated=lambda d: d.groupby(\"city\")[\"treated\"].transform(max))            \n",
    "            .astype({\"date\":\"str\"})\n",
    "            .assign(treated=mkt_data[\"treated\"]*mkt_data[\"post\"])\n",
    "            .pivot(index=\"city\", columns=\"date\", values=\"treated\")\n",
    "            .reset_index()\n",
    "            .sort_values(max(mkt_data[\"date\"].astype(str)), ascending=False)\n",
    "            .reset_index()\n",
    "            .drop(columns=[\"city\"])\n",
    "            .rename(columns={\"index\":\"city\"})\n",
    "            .set_index(\"city\"))\n",
    "\n",
    "\n",
    "sns.heatmap(heat_plt, cmap=\"gray\", linewidths=0.01, linecolor=\"0.5\", ax=ax1, cbar=False)\n",
    "\n",
    "ax1.set_title(\"Treatment Assignment\")\n",
    "\n",
    "\n",
    "sns.lineplot(data=mkt_data.astype({\"date\":\"str\"}),\n",
    "             x=\"date\", y=\"downloads\", hue=\"treated\", ax=ax2)\n",
    "\n",
    "loc = plticker.MultipleLocator(base=2.0)\n",
    "# ax2.xaxis.set_major_locator(loc)\n",
    "ax2.vlines(\"2021-05-15\", mkt_data[\"downloads\"].min(), mkt_data[\"downloads\"].max(), color=\"black\", ls=\"dashed\", label=\"Interv.\")\n",
    "ax2.set_title(\"Outcome Over Time\")\n",
    "\n",
    "plt.xticks(rotation = 50)"
   ]
  },
  {
   "cell_type": "code",
   "execution_count": 92,
   "id": "e01430de",
   "metadata": {},
   "outputs": [
    {
     "data": {
      "text/html": [
       "<div>\n",
       "<style scoped>\n",
       "    .dataframe tbody tr th:only-of-type {\n",
       "        vertical-align: middle;\n",
       "    }\n",
       "\n",
       "    .dataframe tbody tr th {\n",
       "        vertical-align: top;\n",
       "    }\n",
       "\n",
       "    .dataframe thead th {\n",
       "        text-align: right;\n",
       "    }\n",
       "</style>\n",
       "<table border=\"1\" class=\"dataframe\">\n",
       "  <thead>\n",
       "    <tr style=\"text-align: right;\">\n",
       "      <th></th>\n",
       "      <th>date</th>\n",
       "      <th>city</th>\n",
       "      <th>region</th>\n",
       "      <th>treated</th>\n",
       "      <th>tau</th>\n",
       "      <th>downloads</th>\n",
       "      <th>post</th>\n",
       "    </tr>\n",
       "  </thead>\n",
       "  <tbody>\n",
       "    <tr>\n",
       "      <th>0</th>\n",
       "      <td>2021-05-01</td>\n",
       "      <td>5</td>\n",
       "      <td>S</td>\n",
       "      <td>0</td>\n",
       "      <td>0.000000</td>\n",
       "      <td>51.0</td>\n",
       "      <td>0</td>\n",
       "    </tr>\n",
       "    <tr>\n",
       "      <th>1</th>\n",
       "      <td>2021-05-02</td>\n",
       "      <td>5</td>\n",
       "      <td>S</td>\n",
       "      <td>0</td>\n",
       "      <td>0.000000</td>\n",
       "      <td>51.0</td>\n",
       "      <td>0</td>\n",
       "    </tr>\n",
       "    <tr>\n",
       "      <th>2</th>\n",
       "      <td>2021-05-03</td>\n",
       "      <td>5</td>\n",
       "      <td>S</td>\n",
       "      <td>0</td>\n",
       "      <td>0.000000</td>\n",
       "      <td>51.0</td>\n",
       "      <td>0</td>\n",
       "    </tr>\n",
       "    <tr>\n",
       "      <th>3</th>\n",
       "      <td>2021-05-04</td>\n",
       "      <td>5</td>\n",
       "      <td>S</td>\n",
       "      <td>0</td>\n",
       "      <td>0.000000</td>\n",
       "      <td>50.0</td>\n",
       "      <td>0</td>\n",
       "    </tr>\n",
       "    <tr>\n",
       "      <th>4</th>\n",
       "      <td>2021-05-05</td>\n",
       "      <td>5</td>\n",
       "      <td>S</td>\n",
       "      <td>0</td>\n",
       "      <td>0.000000</td>\n",
       "      <td>49.0</td>\n",
       "      <td>0</td>\n",
       "    </tr>\n",
       "    <tr>\n",
       "      <th>...</th>\n",
       "      <td>...</td>\n",
       "      <td>...</td>\n",
       "      <td>...</td>\n",
       "      <td>...</td>\n",
       "      <td>...</td>\n",
       "      <td>...</td>\n",
       "      <td>...</td>\n",
       "    </tr>\n",
       "    <tr>\n",
       "      <th>1627</th>\n",
       "      <td>2021-05-28</td>\n",
       "      <td>197</td>\n",
       "      <td>S</td>\n",
       "      <td>1</td>\n",
       "      <td>1.771233</td>\n",
       "      <td>53.0</td>\n",
       "      <td>1</td>\n",
       "    </tr>\n",
       "    <tr>\n",
       "      <th>1628</th>\n",
       "      <td>2021-05-29</td>\n",
       "      <td>197</td>\n",
       "      <td>S</td>\n",
       "      <td>1</td>\n",
       "      <td>1.771233</td>\n",
       "      <td>52.0</td>\n",
       "      <td>1</td>\n",
       "    </tr>\n",
       "    <tr>\n",
       "      <th>1629</th>\n",
       "      <td>2021-05-30</td>\n",
       "      <td>197</td>\n",
       "      <td>S</td>\n",
       "      <td>1</td>\n",
       "      <td>1.771233</td>\n",
       "      <td>54.0</td>\n",
       "      <td>1</td>\n",
       "    </tr>\n",
       "    <tr>\n",
       "      <th>1630</th>\n",
       "      <td>2021-05-31</td>\n",
       "      <td>197</td>\n",
       "      <td>S</td>\n",
       "      <td>1</td>\n",
       "      <td>1.771233</td>\n",
       "      <td>53.0</td>\n",
       "      <td>1</td>\n",
       "    </tr>\n",
       "    <tr>\n",
       "      <th>1631</th>\n",
       "      <td>2021-06-01</td>\n",
       "      <td>197</td>\n",
       "      <td>S</td>\n",
       "      <td>1</td>\n",
       "      <td>1.771233</td>\n",
       "      <td>55.0</td>\n",
       "      <td>1</td>\n",
       "    </tr>\n",
       "  </tbody>\n",
       "</table>\n",
       "<p>1632 rows × 7 columns</p>\n",
       "</div>"
      ],
      "text/plain": [
       "           date  city region  treated       tau  downloads  post\n",
       "0    2021-05-01     5      S        0  0.000000       51.0     0\n",
       "1    2021-05-02     5      S        0  0.000000       51.0     0\n",
       "2    2021-05-03     5      S        0  0.000000       51.0     0\n",
       "3    2021-05-04     5      S        0  0.000000       50.0     0\n",
       "4    2021-05-05     5      S        0  0.000000       49.0     0\n",
       "...         ...   ...    ...      ...       ...        ...   ...\n",
       "1627 2021-05-28   197      S        1  1.771233       53.0     1\n",
       "1628 2021-05-29   197      S        1  1.771233       52.0     1\n",
       "1629 2021-05-30   197      S        1  1.771233       54.0     1\n",
       "1630 2021-05-31   197      S        1  1.771233       53.0     1\n",
       "1631 2021-06-01   197      S        1  1.771233       55.0     1\n",
       "\n",
       "[1632 rows x 7 columns]"
      ]
     },
     "execution_count": 92,
     "metadata": {},
     "output_type": "execute_result"
    }
   ],
   "source": [
    "mkt_data"
   ]
  },
  {
   "cell_type": "markdown",
   "id": "f19bdff0",
   "metadata": {},
   "source": [
    "### Basic DID"
   ]
  },
  {
   "cell_type": "code",
   "execution_count": 27,
   "id": "647b569a",
   "metadata": {
    "ExecuteTime": {
     "end_time": "2024-01-20T14:39:11.154791Z",
     "start_time": "2024-01-20T14:39:11.145888Z"
    }
   },
   "outputs": [
    {
     "data": {
      "text/plain": [
       "np.float64(0.6917359536406855)"
      ]
     },
     "execution_count": 27,
     "metadata": {},
     "output_type": "execute_result"
    }
   ],
   "source": [
    "m = smf.ols('downloads ~ treated*post', data=mkt_data).fit()\n",
    "\n",
    "m.params[\"treated:post\"]"
   ]
  },
  {
   "cell_type": "code",
   "execution_count": 28,
   "id": "03b5b503",
   "metadata": {},
   "outputs": [
    {
     "name": "stdout",
     "output_type": "stream",
     "text": [
      "DID estimate: 0.6917359536407436\n"
     ]
    }
   ],
   "source": [
    "import pyfixest as pf\n",
    "\n",
    "model = pf.feols(\"downloads ~ treated*post\", data=mkt_data)\n",
    "\n",
    "# DID 추정치 (treated:post 계수)\n",
    "coef = model.coef()[\"treated:post\"]\n",
    "print(\"DID estimate:\", coef)"
   ]
  },
  {
   "cell_type": "markdown",
   "id": "83f05570",
   "metadata": {},
   "source": [
    "#### 추론"
   ]
  },
  {
   "cell_type": "code",
   "execution_count": 41,
   "id": "fe572c5d",
   "metadata": {},
   "outputs": [
    {
     "name": "stdout",
     "output_type": "stream",
     "text": [
      "ATT: 0.6917359536407082\n"
     ]
    },
    {
     "data": {
      "text/plain": [
       "0    0.300318\n",
       "1    1.083154\n",
       "Name: treated:post, dtype: float64"
      ]
     },
     "execution_count": 41,
     "metadata": {},
     "output_type": "execute_result"
    }
   ],
   "source": [
    "m = smf.ols(\n",
    "    'downloads ~ treated*post', data=did_data\n",
    ").fit(cov_type='cluster', cov_kwds={'groups': did_data['city']})\n",
    "\n",
    "print(\"ATT:\", m.params[\"treated:post\"])\n",
    "m.conf_int().loc[\"treated:post\"]"
   ]
  },
  {
   "cell_type": "code",
   "execution_count": 43,
   "id": "e1157b02",
   "metadata": {},
   "outputs": [
    {
     "name": "stdout",
     "output_type": "stream",
     "text": [
      "ATT: 0.6917359536407451\n",
      "2.5%     0.290613\n",
      "97.5%    1.092859\n",
      "Name: treated:post, dtype: float64\n"
     ]
    }
   ],
   "source": [
    "import pyfixest as pf\n",
    "\n",
    "m = pf.feols(\n",
    "    \"downloads ~ treated*post\",\n",
    "    vcov={\"CRV1\": \"city\"},   # 클러스터 표준오차: city 단위\n",
    "    data=did_data\n",
    ")\n",
    "\n",
    "print(\"ATT:\", m.coef()[\"treated:post\"])\n",
    "print(m.confint().loc[\"treated:post\"])"
   ]
  },
  {
   "cell_type": "markdown",
   "id": "a745a402",
   "metadata": {},
   "source": [
    "### 2WFE did "
   ]
  },
  {
   "cell_type": "code",
   "execution_count": 33,
   "id": "f80b7263",
   "metadata": {},
   "outputs": [
    {
     "name": "stdout",
     "output_type": "stream",
     "text": [
      "DID estimate: 0.6917359536407248\n"
     ]
    }
   ],
   "source": [
    "m = smf.ols('downloads ~ treated:post + C(city) + C(date)',\n",
    "            data=mkt_data).fit()\n",
    "\n",
    "coef=m.params[\"treated:post\"]\n",
    "\n",
    "print(\"DID estimate:\", coef)"
   ]
  },
  {
   "cell_type": "code",
   "execution_count": 32,
   "id": "6c2d3cb6",
   "metadata": {},
   "outputs": [
    {
     "name": "stdout",
     "output_type": "stream",
     "text": [
      "DID estimate: 0.6917359536407154\n"
     ]
    }
   ],
   "source": [
    "import pyfixest as pf\n",
    "\n",
    "# pyfixest의 feols 함수 사용\n",
    "m = pf.feols(\"downloads ~ treated:post | city + date\", data=mkt_data)\n",
    "\n",
    "# 계수 확인\n",
    "coef=m.coef()[\"treated:post\"]\n",
    "print(\"DID estimate:\", coef)"
   ]
  },
  {
   "cell_type": "markdown",
   "id": "364d13bd",
   "metadata": {},
   "source": [
    "#### 추론"
   ]
  },
  {
   "cell_type": "markdown",
   "id": "03fa6aea",
   "metadata": {},
   "source": [
    "##### 1. 실험 대상과 처치 전후 기간별 집계한 데이터 기반 추론"
   ]
  },
  {
   "cell_type": "markdown",
   "id": "0a47e10f",
   "metadata": {},
   "source": [
    "기존 표준 오차 기반"
   ]
  },
  {
   "cell_type": "code",
   "execution_count": 38,
   "id": "0f3be3b1",
   "metadata": {},
   "outputs": [
    {
     "name": "stdout",
     "output_type": "stream",
     "text": [
      "ATT: 0.6917359536407064\n"
     ]
    },
    {
     "data": {
      "text/plain": [
       "0    0.409916\n",
       "1    0.973556\n",
       "Name: treated:post, dtype: float64"
      ]
     },
     "execution_count": 38,
     "metadata": {},
     "output_type": "execute_result"
    }
   ],
   "source": [
    "m = smf.ols('downloads ~ treated:post + C(city) + C(date)',\n",
    "            data=did_data).fit()\n",
    "\n",
    "print(\"ATT:\", m.params[\"treated:post\"])\n",
    "m.conf_int().loc[\"treated:post\"]"
   ]
  },
  {
   "cell_type": "markdown",
   "id": "060ae0ae",
   "metadata": {},
   "source": [
    "군집 표준 오차 기반"
   ]
  },
  {
   "cell_type": "code",
   "execution_count": 39,
   "id": "9c0290e8",
   "metadata": {},
   "outputs": [
    {
     "name": "stdout",
     "output_type": "stream",
     "text": [
      "ATT: 0.6917359536407064\n"
     ]
    },
    {
     "data": {
      "text/plain": [
       "0    0.138188\n",
       "1    1.245284\n",
       "Name: treated:post, dtype: float64"
      ]
     },
     "execution_count": 39,
     "metadata": {},
     "output_type": "execute_result"
    }
   ],
   "source": [
    "m = smf.ols(\n",
    "    'downloads ~ treated:post + C(city) + C(date)', data=did_data\n",
    ").fit(cov_type='cluster', cov_kwds={'groups': did_data['city']})\n",
    "\n",
    "print(\"ATT:\", m.params[\"treated:post\"])\n",
    "m.conf_int().loc[\"treated:post\"]"
   ]
  },
  {
   "cell_type": "code",
   "execution_count": 44,
   "id": "7a80adcb",
   "metadata": {},
   "outputs": [
    {
     "name": "stdout",
     "output_type": "stream",
     "text": [
      "ATT: 0.6917359536406991\n",
      "2.5%     0.124463\n",
      "97.5%    1.259009\n",
      "Name: treated:post, dtype: float64\n"
     ]
    }
   ],
   "source": [
    "import pyfixest as pf\n",
    "\n",
    "m = pf.feols(\n",
    "    \"downloads ~ treated:post + C(city) + C(date)\",\n",
    "    vcov={\"CRV1\": \"city\"},   # 클러스터 표준오차: city 단위\n",
    "    data=did_data\n",
    ")\n",
    "\n",
    "print(\"ATT:\", m.coef()[\"treated:post\"])\n",
    "print(m.confint().loc[\"treated:post\"])"
   ]
  },
  {
   "cell_type": "markdown",
   "id": "919ba418",
   "metadata": {},
   "source": [
    "##### 2. 일별로 집계한 데이터"
   ]
  },
  {
   "cell_type": "markdown",
   "id": "feca1d75",
   "metadata": {},
   "source": [
    "기존 표준오차 기반"
   ]
  },
  {
   "cell_type": "code",
   "execution_count": 40,
   "id": "83d3cfda",
   "metadata": {},
   "outputs": [
    {
     "name": "stdout",
     "output_type": "stream",
     "text": [
      "ATT: 0.6917359536407248\n"
     ]
    },
    {
     "data": {
      "text/plain": [
       "0    0.478014\n",
       "1    0.905457\n",
       "Name: treated:post, dtype: float64"
      ]
     },
     "execution_count": 40,
     "metadata": {},
     "output_type": "execute_result"
    }
   ],
   "source": [
    "m = smf.ols('downloads ~ treated:post + C(city) + C(date)',\n",
    "            data=mkt_data).fit()\n",
    "\n",
    "print(\"ATT:\", m.params[\"treated:post\"])\n",
    "m.conf_int().loc[\"treated:post\"]"
   ]
  },
  {
   "cell_type": "markdown",
   "id": "4e4d7046",
   "metadata": {},
   "source": [
    "군집 표준 오차 기반"
   ]
  },
  {
   "cell_type": "code",
   "execution_count": 36,
   "id": "edd9ec8e",
   "metadata": {},
   "outputs": [
    {
     "name": "stdout",
     "output_type": "stream",
     "text": [
      "ATT: 0.6917359536407248\n"
     ]
    },
    {
     "data": {
      "text/plain": [
       "0    0.296101\n",
       "1    1.087370\n",
       "Name: treated:post, dtype: float64"
      ]
     },
     "execution_count": 36,
     "metadata": {},
     "output_type": "execute_result"
    }
   ],
   "source": [
    "m = smf.ols(\n",
    "    'downloads ~ treated:post + C(city) + C(date)', data=mkt_data\n",
    ").fit(cov_type='cluster', cov_kwds={'groups': mkt_data['city']})\n",
    "\n",
    "print(\"ATT:\", m.params[\"treated:post\"])\n",
    "m.conf_int().loc[\"treated:post\"]"
   ]
  },
  {
   "cell_type": "code",
   "execution_count": 45,
   "id": "c92fca81",
   "metadata": {},
   "outputs": [
    {
     "name": "stdout",
     "output_type": "stream",
     "text": [
      "ATT: 0.6917359536407385\n",
      "2.5%     0.286292\n",
      "97.5%    1.097180\n",
      "Name: treated:post, dtype: float64\n"
     ]
    }
   ],
   "source": [
    "import pyfixest as pf\n",
    "\n",
    "m = pf.feols(\n",
    "    \"downloads ~ treated:post + C(city) + C(date)\",\n",
    "    vcov={\"CRV1\": \"city\"},   # 클러스터 표준오차: city 단위\n",
    "    data=mkt_data\n",
    ")\n",
    "\n",
    "print(\"ATT:\", m.coef()[\"treated:post\"])\n",
    "print(m.confint().loc[\"treated:post\"])"
   ]
  },
  {
   "cell_type": "markdown",
   "id": "013fd5ae",
   "metadata": {},
   "source": [
    "### DID with covariates"
   ]
  },
  {
   "cell_type": "code",
   "execution_count": null,
   "id": "95d777fa",
   "metadata": {},
   "outputs": [],
   "source": [
    "mkt_data_all = (pd.read_csv(\"../data/matheus_data/short_offline_mkt_all_regions.csv\")\n",
    "                .astype({\"date\":\"datetime64[ns]\"}))"
   ]
  },
  {
   "cell_type": "code",
   "execution_count": null,
   "id": "9f347bae",
   "metadata": {},
   "outputs": [
    {
     "data": {
      "image/png": "[encoded data removed]",
      "text/plain": [
       "<Figure size 1500x600 with 1 Axes>"
      ]
     },
     "metadata": {},
     "output_type": "display_data"
    }
   ],
   "source": [
    "plt.figure(figsize=(15,6))\n",
    "sns.lineplot(data=mkt_data_all.groupby([\"date\", \"region\", \"treated\"])[[\"downloads\"]].mean().reset_index(),\n",
    "             x=\"date\", y=\"downloads\", hue=\"region\", style=\"treated\", palette=\"gray\")\n",
    "\n",
    "plt.vlines(pd.to_datetime(\"2021-05-15\"), 15, 55, ls=\"dotted\", label=\"Intervention\")\n",
    "plt.legend(fontsize=14)\n",
    "\n",
    "plt.xticks(rotation=25)"
   ]
  },
  {
   "cell_type": "markdown",
   "id": "482abc10",
   "metadata": {},
   "source": [
    "처치 이전 추세의 경우 지역내에서는 평행하지만 지역 간에는 평행하지 않은 것으로 보입니다. 이러한 상황해서 단순히 이원고정효과모델을 적용하면 ATT에 대해 편향된 추정값을 얻게되죠.   \n",
    "\n",
    "따라서 이 문제를 해결하기 위해선 각 지역별로 서로 다른 추세가 있다는 것을 반드시 고려해야합니다.  \n",
    "\n",
    "그럼 어떻게 지역별로 서로 다른 추세가 있다는 것을 모델에 반영할 수 있을까요? 바로 모델에 처치전의 공변량(covariates)을 포함하는 것입니다. \n",
    "\n",
    "공변량을 모델에 반영하여 ATT추정하는 방법은 대표적으로 2가지 방법이 있습니다.   \n",
    "\n",
    "\n",
    "1. 각 지역별로 별도의 DID 회귀 모델 적용하고 ATT 가중평균하여 구하기\n",
    "\n",
    "2. 지역 변수와 처치 후 더미 변수와 상호작용하기\n"
   ]
  },
  {
   "cell_type": "code",
   "execution_count": 66,
   "id": "71afe601",
   "metadata": {},
   "outputs": [
    {
     "name": "stdout",
     "output_type": "stream",
     "text": [
      "True ATT:  1.7208921056102682\n"
     ]
    }
   ],
   "source": [
    "print(\"True ATT: \", mkt_data_all.query(\"treated*post==1\")[\"tau\"].mean())"
   ]
  },
  {
   "cell_type": "markdown",
   "id": "cc2d5fad",
   "metadata": {},
   "source": [
    "##### 1. 각 지역별로 별도의 DID 회귀 모델 적용하고 ATT 가중평균($\\hat\\theta=\\sum_r w_r \\widehat{ATT}_r$)하여 구하기"
   ]
  },
  {
   "cell_type": "code",
   "execution_count": 48,
   "id": "0f035c0d",
   "metadata": {},
   "outputs": [
    {
     "data": {
      "text/plain": [
       "post:treated                   1.676808\n",
       "post:treated:C(region)[T.N]   -0.343667\n",
       "post:treated:C(region)[T.S]   -0.985072\n",
       "post:treated:C(region)[T.W]    1.369363\n",
       "dtype: float64"
      ]
     },
     "execution_count": 48,
     "metadata": {},
     "output_type": "execute_result"
    }
   ],
   "source": [
    "m_saturated = smf.ols('downloads ~ (post*treated)*C(region)',\n",
    "                      data=mkt_data_all).fit()\n",
    "\n",
    "atts = m_saturated.params[m_saturated.params.index.str.contains(\"post:treated\")]\n",
    "atts"
   ]
  },
  {
   "cell_type": "markdown",
   "id": "1912a034",
   "metadata": {},
   "source": [
    "##### 추정"
   ]
  },
  {
   "cell_type": "code",
   "execution_count": null,
   "id": "b88f37a8",
   "metadata": {},
   "outputs": [
    {
     "name": "stdout",
     "output_type": "stream",
     "text": [
      "Weighted ATT: 1.6940400451471986\n",
      "95% CI: (np.float64(1.3897593237876618), np.float64(1.9983207665067355))\n"
     ]
    }
   ],
   "source": [
    "\n",
    "import statsmodels.api as sm\n",
    "from scipy.stats import norm\n",
    "\n",
    "# (1) region size (가중치 계산)\n",
    "reg_size = (mkt_data_all.groupby(\"region\").size()\n",
    "            / len(mkt_data_all[\"date\"].unique()))\n",
    "\n",
    "# (2) saturated DID 결과 계수\n",
    "atts = m_saturated.params[m_saturated.params.index.str.contains(\"post:treated\")]\n",
    "cov = m_saturated.cov_params()  # 분산-공분산 행렬\n",
    "\n",
    "# (3) base (= region baseline ATT, 보통 첫 지역)\n",
    "base = atts.iloc[0]\n",
    "\n",
    "# (4) 선형 조합 벡터 만들기\n",
    "weights = [reg_size.iloc[0]] + list(reg_size.iloc[1:])\n",
    "coefs = [base] + list(atts.iloc[1:] + base)\n",
    "\n",
    "theta = np.dot(weights, coefs) / reg_size.sum()\n",
    "\n",
    "# (5) 대응되는 선형 조합 벡터 정의 (계수 개수만큼)\n",
    "# 인덱스 맞추기\n",
    "att_idx = atts.index\n",
    "w = np.zeros(len(m_saturated.params))\n",
    "\n",
    "# baseline\n",
    "w[m_saturated.params.index.get_loc(att_idx[0])] = reg_size.iloc[0]\n",
    "\n",
    "# 나머지 region 효과들\n",
    "for att_name, size in zip(att_idx[1:], reg_size.iloc[1:]):\n",
    "    w[m_saturated.params.index.get_loc(att_idx[0])] += size   # baseline part\n",
    "    w[m_saturated.params.index.get_loc(att_name)] += size     # interaction part\n",
    "\n",
    "# normalize\n",
    "w = w / reg_size.sum()\n",
    "\n",
    "# (6) 분산 계산\n",
    "theta_var = w @ cov @ w\n",
    "theta_se = np.sqrt(theta_var)\n",
    "\n",
    "# (7) 신뢰구간\n",
    "alpha = 0.05\n",
    "z = norm.ppf(1 - alpha/2)\n",
    "\n",
    "ci_lower = theta - z * theta_se\n",
    "ci_upper = theta + z * theta_se\n",
    "\n",
    "print(\"Weighted ATT:\", theta)\n",
    "print(\"95% CI:\", (ci_lower, ci_upper))"
   ]
  },
  {
   "cell_type": "markdown",
   "id": "c68f80ea",
   "metadata": {},
   "source": [
    "##### 2. 지역변수와 처치 후 더미변수와 상호작용하기"
   ]
  },
  {
   "cell_type": "code",
   "execution_count": 71,
   "id": "e93ea8d4",
   "metadata": {},
   "outputs": [
    {
     "data": {
      "text/html": [
       "<table class=\"simpletable\">\n",
       "<tr>\n",
       "           <td></td>              <th>coef</th>     <th>std err</th>      <th>t</th>      <th>P>|t|</th>  <th>[0.025</th>    <th>0.975]</th>  \n",
       "</tr>\n",
       "<tr>\n",
       "  <th>Intercept</th>           <td>   17.3522</td> <td>    0.101</td> <td>  172.218</td> <td> 0.000</td> <td>   17.155</td> <td>   17.550</td>\n",
       "</tr>\n",
       "<tr>\n",
       "  <th>C(region)[T.N]</th>      <td>   26.2770</td> <td>    0.137</td> <td>  191.739</td> <td> 0.000</td> <td>   26.008</td> <td>   26.546</td>\n",
       "</tr>\n",
       "<tr>\n",
       "  <th>C(region)[T.S]</th>      <td>   33.0815</td> <td>    0.135</td> <td>  245.772</td> <td> 0.000</td> <td>   32.818</td> <td>   33.345</td>\n",
       "</tr>\n",
       "<tr>\n",
       "  <th>C(region)[T.W]</th>      <td>   10.7118</td> <td>    0.135</td> <td>   79.581</td> <td> 0.000</td> <td>   10.448</td> <td>   10.976</td>\n",
       "</tr>\n",
       "<tr>\n",
       "  <th>post</th>                <td>    4.9807</td> <td>    0.134</td> <td>   37.074</td> <td> 0.000</td> <td>    4.717</td> <td>    5.244</td>\n",
       "</tr>\n",
       "<tr>\n",
       "  <th>post:C(region)[T.N]</th> <td>   -3.3458</td> <td>    0.183</td> <td>  -18.310</td> <td> 0.000</td> <td>   -3.704</td> <td>   -2.988</td>\n",
       "</tr>\n",
       "<tr>\n",
       "  <th>post:C(region)[T.S]</th> <td>   -4.9334</td> <td>    0.179</td> <td>  -27.489</td> <td> 0.000</td> <td>   -5.285</td> <td>   -4.582</td>\n",
       "</tr>\n",
       "<tr>\n",
       "  <th>post:C(region)[T.W]</th> <td>   -1.5408</td> <td>    0.179</td> <td>   -8.585</td> <td> 0.000</td> <td>   -1.893</td> <td>   -1.189</td>\n",
       "</tr>\n",
       "<tr>\n",
       "  <th>treated</th>             <td>    0.0503</td> <td>    0.117</td> <td>    0.429</td> <td> 0.668</td> <td>   -0.179</td> <td>    0.280</td>\n",
       "</tr>\n",
       "<tr>\n",
       "  <th>post:treated</th>        <td>    1.6811</td> <td>    0.156</td> <td>   10.758</td> <td> 0.000</td> <td>    1.375</td> <td>    1.987</td>\n",
       "</tr>\n",
       "</table>"
      ],
      "text/latex": [
       "\\begin{center}\n",
       "\\begin{tabular}{lcccccc}\n",
       "\\toprule\n",
       "                             & \\textbf{coef} & \\textbf{std err} & \\textbf{t} & \\textbf{P$> |$t$|$} & \\textbf{[0.025} & \\textbf{0.975]}  \\\\\n",
       "\\midrule\n",
       "\\textbf{Intercept}           &      17.3522  &        0.101     &   172.218  &         0.000        &       17.155    &       17.550     \\\\\n",
       "\\textbf{C(region)[T.N]}      &      26.2770  &        0.137     &   191.739  &         0.000        &       26.008    &       26.546     \\\\\n",
       "\\textbf{C(region)[T.S]}      &      33.0815  &        0.135     &   245.772  &         0.000        &       32.818    &       33.345     \\\\\n",
       "\\textbf{C(region)[T.W]}      &      10.7118  &        0.135     &    79.581  &         0.000        &       10.448    &       10.976     \\\\\n",
       "\\textbf{post}                &       4.9807  &        0.134     &    37.074  &         0.000        &        4.717    &        5.244     \\\\\n",
       "\\textbf{post:C(region)[T.N]} &      -3.3458  &        0.183     &   -18.310  &         0.000        &       -3.704    &       -2.988     \\\\\n",
       "\\textbf{post:C(region)[T.S]} &      -4.9334  &        0.179     &   -27.489  &         0.000        &       -5.285    &       -4.582     \\\\\n",
       "\\textbf{post:C(region)[T.W]} &      -1.5408  &        0.179     &    -8.585  &         0.000        &       -1.893    &       -1.189     \\\\\n",
       "\\textbf{treated}             &       0.0503  &        0.117     &     0.429  &         0.668        &       -0.179    &        0.280     \\\\\n",
       "\\textbf{post:treated}        &       1.6811  &        0.156     &    10.758  &         0.000        &        1.375    &        1.987     \\\\\n",
       "\\bottomrule\n",
       "\\end{tabular}\n",
       "\\end{center}"
      ],
      "text/plain": [
       "<class 'statsmodels.iolib.table.SimpleTable'>"
      ]
     },
     "execution_count": 71,
     "metadata": {},
     "output_type": "execute_result"
    }
   ],
   "source": [
    "m = smf.ols('downloads ~ post*(treated + C(region))',\n",
    "            data=mkt_data_all).fit()\n",
    "\n",
    "m.summary().tables[1]\n"
   ]
  },
  {
   "cell_type": "markdown",
   "id": "a927a7cb",
   "metadata": {},
   "source": [
    "post:treated에 대한 매개 변수를 ATT로 해석합니다. "
   ]
  },
  {
   "cell_type": "markdown",
   "id": "c8eb1318",
   "metadata": {},
   "source": [
    "##### 추정"
   ]
  },
  {
   "cell_type": "code",
   "execution_count": 72,
   "id": "743398c6",
   "metadata": {},
   "outputs": [
    {
     "name": "stdout",
     "output_type": "stream",
     "text": [
      "ATT: 1.6810982546487103\n"
     ]
    },
    {
     "data": {
      "text/plain": [
       "0    1.374772\n",
       "1    1.987424\n",
       "Name: post:treated, dtype: float64"
      ]
     },
     "execution_count": 72,
     "metadata": {},
     "output_type": "execute_result"
    }
   ],
   "source": [
    "print(\"ATT:\", m.params[\"post:treated\"])\n",
    "m.conf_int().loc[\"post:treated\"]"
   ]
  },
  {
   "cell_type": "markdown",
   "id": "0b985fca",
   "metadata": {},
   "source": [
    "#### DML을 이용한 DID"
   ]
  },
  {
   "cell_type": "code",
   "execution_count": 74,
   "id": "c001b25c",
   "metadata": {},
   "outputs": [
    {
     "name": "stdout",
     "output_type": "stream",
     "text": [
      "Collecting doubleml\n",
      "  Downloading doubleml-0.10.1-py3-none-any.whl.metadata (8.3 kB)\n",
      "Requirement already satisfied: joblib in /Users/kimsieun/대학원/가짜연구소/11기/fack_cl/lib/python3.10/site-packages (from doubleml) (1.5.1)\n",
      "Requirement already satisfied: numpy in /Users/kimsieun/대학원/가짜연구소/11기/fack_cl/lib/python3.10/site-packages (from doubleml) (2.2.6)\n",
      "Requirement already satisfied: pandas in /Users/kimsieun/대학원/가짜연구소/11기/fack_cl/lib/python3.10/site-packages (from doubleml) (2.3.1)\n",
      "Requirement already satisfied: scipy in /Users/kimsieun/대학원/가짜연구소/11기/fack_cl/lib/python3.10/site-packages (from doubleml) (1.15.3)\n",
      "Requirement already satisfied: scikit-learn>=1.4.0 in /Users/kimsieun/대학원/가짜연구소/11기/fack_cl/lib/python3.10/site-packages (from doubleml) (1.6.1)\n",
      "Requirement already satisfied: statsmodels in /Users/kimsieun/대학원/가짜연구소/11기/fack_cl/lib/python3.10/site-packages (from doubleml) (0.14.5)\n",
      "Requirement already satisfied: matplotlib in /Users/kimsieun/대학원/가짜연구소/11기/fack_cl/lib/python3.10/site-packages (from doubleml) (3.10.3)\n",
      "Requirement already satisfied: seaborn>=0.13 in /Users/kimsieun/대학원/가짜연구소/11기/fack_cl/lib/python3.10/site-packages (from doubleml) (0.13.2)\n",
      "Collecting plotly (from doubleml)\n",
      "  Downloading plotly-6.3.0-py3-none-any.whl.metadata (8.5 kB)\n",
      "Requirement already satisfied: threadpoolctl>=3.1.0 in /Users/kimsieun/대학원/가짜연구소/11기/fack_cl/lib/python3.10/site-packages (from scikit-learn>=1.4.0->doubleml) (3.6.0)\n",
      "Requirement already satisfied: contourpy>=1.0.1 in /Users/kimsieun/대학원/가짜연구소/11기/fack_cl/lib/python3.10/site-packages (from matplotlib->doubleml) (1.3.2)\n",
      "Requirement already satisfied: cycler>=0.10 in /Users/kimsieun/대학원/가짜연구소/11기/fack_cl/lib/python3.10/site-packages (from matplotlib->doubleml) (0.12.1)\n",
      "Requirement already satisfied: fonttools>=4.22.0 in /Users/kimsieun/대학원/가짜연구소/11기/fack_cl/lib/python3.10/site-packages (from matplotlib->doubleml) (4.58.5)\n",
      "Requirement already satisfied: kiwisolver>=1.3.1 in /Users/kimsieun/대학원/가짜연구소/11기/fack_cl/lib/python3.10/site-packages (from matplotlib->doubleml) (1.4.8)\n",
      "Requirement already satisfied: packaging>=20.0 in /Users/kimsieun/대학원/가짜연구소/11기/fack_cl/lib/python3.10/site-packages (from matplotlib->doubleml) (25.0)\n",
      "Requirement already satisfied: pillow>=8 in /Users/kimsieun/대학원/가짜연구소/11기/fack_cl/lib/python3.10/site-packages (from matplotlib->doubleml) (11.3.0)\n",
      "Requirement already satisfied: pyparsing>=2.3.1 in /Users/kimsieun/대학원/가짜연구소/11기/fack_cl/lib/python3.10/site-packages (from matplotlib->doubleml) (3.2.3)\n",
      "Requirement already satisfied: python-dateutil>=2.7 in /Users/kimsieun/대학원/가짜연구소/11기/fack_cl/lib/python3.10/site-packages (from matplotlib->doubleml) (2.9.0.post0)\n",
      "Requirement already satisfied: pytz>=2020.1 in /Users/kimsieun/대학원/가짜연구소/11기/fack_cl/lib/python3.10/site-packages (from pandas->doubleml) (2025.2)\n",
      "Requirement already satisfied: tzdata>=2022.7 in /Users/kimsieun/대학원/가짜연구소/11기/fack_cl/lib/python3.10/site-packages (from pandas->doubleml) (2025.2)\n",
      "Requirement already satisfied: six>=1.5 in /Users/kimsieun/대학원/가짜연구소/11기/fack_cl/lib/python3.10/site-packages (from python-dateutil>=2.7->matplotlib->doubleml) (1.17.0)\n",
      "Requirement already satisfied: narwhals>=1.15.1 in /Users/kimsieun/대학원/가짜연구소/11기/fack_cl/lib/python3.10/site-packages (from plotly->doubleml) (2.5.0)\n",
      "Requirement already satisfied: patsy>=0.5.6 in /Users/kimsieun/대학원/가짜연구소/11기/fack_cl/lib/python3.10/site-packages (from statsmodels->doubleml) (1.0.1)\n",
      "Downloading doubleml-0.10.1-py3-none-any.whl (471 kB)\n",
      "Downloading plotly-6.3.0-py3-none-any.whl (9.8 MB)\n",
      "\u001b[2K   \u001b[90m━━━━━━━━━━━━━━━━━━━━━━━━━━━━━━━━━━━━━━━━\u001b[0m \u001b[32m9.8/9.8 MB\u001b[0m \u001b[31m3.7 MB/s\u001b[0m eta \u001b[36m0:00:00\u001b[0m00:01\u001b[0m00:01\u001b[0m\n",
      "\u001b[?25hInstalling collected packages: plotly, doubleml\n",
      "\u001b[2K   \u001b[90m━━━━━━━━━━━━━━━━━━━━━━━━━━━━━━━━━━━━━━━━\u001b[0m \u001b[32m2/2\u001b[0m [doubleml]1/2\u001b[0m [doubleml]\n",
      "\u001b[1A\u001b[2KSuccessfully installed doubleml-0.10.1 plotly-6.3.0\n",
      "\n",
      "\u001b[1m[\u001b[0m\u001b[34;49mnotice\u001b[0m\u001b[1;39;49m]\u001b[0m\u001b[39;49m A new release of pip is available: \u001b[0m\u001b[31;49m25.1.1\u001b[0m\u001b[39;49m -> \u001b[0m\u001b[32;49m25.2\u001b[0m\n",
      "\u001b[1m[\u001b[0m\u001b[34;49mnotice\u001b[0m\u001b[1;39;49m]\u001b[0m\u001b[39;49m To update, run: \u001b[0m\u001b[32;49mpip install --upgrade pip\u001b[0m\n"
     ]
    }
   ],
   "source": [
    "!pip install doubleml"
   ]
  },
  {
   "cell_type": "code",
   "execution_count": 84,
   "id": "e5f05e5e",
   "metadata": {},
   "outputs": [],
   "source": [
    "import warnings\n",
    "\n",
    "# 모든 경고 무시\n",
    "warnings.filterwarnings(\"ignore\")"
   ]
  },
  {
   "cell_type": "code",
   "execution_count": 75,
   "id": "2b5db2e0",
   "metadata": {},
   "outputs": [],
   "source": [
    "\n",
    "from doubleml import DoubleMLData, DoubleMLDID\n",
    "from lightgbm import LGBMClassifier, LGBMRegressor"
   ]
  },
  {
   "cell_type": "markdown",
   "id": "3d522a65",
   "metadata": {},
   "source": [
    " Data 생성"
   ]
  },
  {
   "cell_type": "code",
   "execution_count": null,
   "id": "723b9832",
   "metadata": {},
   "outputs": [],
   "source": [
    "import numpy as np\n",
    "import pandas as pd\n",
    "from doubleml import DoubleMLData, DoubleMLDID\n",
    "from lightgbm import LGBMRegressor, LGBMClassifier\n",
    "\n",
    "\n",
    "\n",
    "def make_custom_did(n_obs=1000, n_time_periods=5, seed=None):\n",
    "    if seed is not None:\n",
    "        np.random.seed(seed)\n",
    "\n",
    "    time_periods = (np.arange(2*n_time_periods) - n_time_periods)\n",
    "\n",
    "    # fixed effects\n",
    "    theta = np.zeros(shape=(n_obs, 2*n_time_periods)) + time_periods\n",
    "    eta = np.random.normal(loc=0, scale=1, size=(n_obs,1))\n",
    "\n",
    "    # covariates\n",
    "    X = np.random.normal(loc=0, scale=1, size=(n_obs, 4, 2*n_time_periods))\n",
    "\n",
    "    # treatment effects\n",
    "    mu_means = np.concatenate((np.zeros(n_time_periods), np.arange(n_time_periods, 0, -1)))\n",
    "    mu = np.random.normal(loc=0, scale=1, size=(n_obs, 2*n_time_periods)) + mu_means\n",
    "\n",
    "    # treatment assignment\n",
    "    f_ps = 0.75*(-X[:, 0, 0] + 0.5*X[:, 1, 0] - 0.25*X[:, 2, 0] \n",
    "                 - 0.1*X[:, 3, 0]*X[:, 2, 0] + np.cos(5*X[:, 1, 0]))\n",
    "    ps = (np.exp(f_ps) / (1 + np.exp(f_ps))).reshape(-1,1)\n",
    "    u = np.random.uniform(low=0, high=1, size=(n_obs,1))\n",
    "    treatment = np.ones(shape=(n_obs, 2*n_time_periods)) * (ps >= u)\n",
    "\n",
    "    # outcome\n",
    "    g_X = (np.exp(X[:, 1, :]) - np.sin(5*X[:, 2, :]) + 2*X[:, 3, :])\n",
    "    epsilon = np.random.normal(loc=0, scale=1, size=(n_obs, 2*n_time_periods))\n",
    "    Y = theta + eta + treatment*mu + g_X + epsilon\n",
    "\n",
    "    # reshape to long format\n",
    "    Y_df = Y.reshape(-1)\n",
    "    d_df = treatment.reshape(-1)\n",
    "    t_df = np.tile(time_periods, n_obs)\n",
    "    i_df = np.repeat(np.arange(n_obs), 2*n_time_periods)\n",
    "    X_df = X.transpose(0,2,1).reshape(-1, 4)\n",
    "\n",
    "    data = pd.DataFrame({\n",
    "        'y': Y_df,\n",
    "        'd': d_df,\n",
    "        't': t_df,\n",
    "        'i': i_df,\n",
    "        'X0': X_df[:,0],\n",
    "        'X1': X_df[:,1],\n",
    "        'X2': X_df[:,2],\n",
    "        'X3': X_df[:,3]\n",
    "    })\n",
    "    \n",
    "    # True ATT = 사후 기간 효과 평균\n",
    "    true_att = mu_means[n_time_periods:].mean()\n",
    "    \n",
    "    return data, true_att,mu_means\n",
    "\n",
    "def did_to_dml_format(data):\n",
    "    \"\"\"\n",
    "    make_custom_did()에서 생성된 long-format DataFrame -> DoubleMLDID용 데이터 변환\n",
    "    \"\"\"\n",
    "\n",
    "    # 사전(pre, t<0), 사후(post, t>=0) 구분\n",
    "    pre = data[data['t'] < 0]\n",
    "    post = data[data['t'] >= 0]\n",
    "\n",
    "    # (1) outcome: 개체별 (post 평균 - pre 평균)\n",
    "    y_diff = post.groupby('i')['y'].mean().values - pre.groupby('i')['y'].mean().values\n",
    "\n",
    "    # (2) treatment: 개체별 사후처치 여부 (post에서 하나만 뽑으면 됨)\n",
    "    d = post.groupby('i')['d'].first().astype(int).values\n",
    "\n",
    "    # (3) covariates: 개체별 pre-treatment covariates (t<0에서 첫 번째 시점 사용)\n",
    "    x = pre.groupby('i')[['X0', 'X1', 'X2', 'X3']].first().values\n",
    "\n",
    "    # DoubleMLData 입력용\n",
    "    dml_data = DoubleMLData.from_arrays(x=x, y=y_diff, d=d)\n",
    "\n",
    "    return dml_data\n",
    "\n",
    "\n",
    "\n",
    "data, true_att,_ = make_custom_did(n_obs=1000, n_time_periods=5, seed=42)\n",
    "\n",
    "dml_data = did_to_dml_format(data)"
   ]
  },
  {
   "cell_type": "markdown",
   "id": "dc414e35",
   "metadata": {},
   "source": [
    "Learners 설정\n"
   ]
  },
  {
   "cell_type": "code",
   "execution_count": null,
   "id": "3b6d7828",
   "metadata": {},
   "outputs": [
    {
     "name": "stdout",
     "output_type": "stream",
     "text": [
      "================== DoubleMLData Object ==================\n",
      "\n",
      "------------------ Data summary      ------------------\n",
      "Outcome variable: y\n",
      "Treatment variable(s): ['d']\n",
      "Covariates: ['X1', 'X2', 'X3', 'X4']\n",
      "Instrument variable(s): None\n",
      "No. Observations: 1000\n",
      "\n",
      "------------------ DataFrame info    ------------------\n",
      "<class 'pandas.core.frame.DataFrame'>\n",
      "RangeIndex: 1000 entries, 0 to 999\n",
      "Columns: 6 entries, X1 to d\n",
      "dtypes: float64(6)\n",
      "memory usage: 47.0 KB\n",
      "\n",
      "ATT estimate: [3.05836115]\n",
      "      2.5 %    97.5 %\n",
      "d  2.768038  3.348684\n"
     ]
    }
   ],
   "source": [
    "\n",
    "ml_g = LGBMRegressor(n_estimators=50, num_leaves=5, verbose=-1)\n",
    "ml_m = LGBMClassifier(n_estimators=50, num_leaves=5, verbose=-1)\n"
   ]
  },
  {
   "cell_type": "markdown",
   "id": "0f1d1714",
   "metadata": {},
   "source": [
    "DoubleMLDID 추정"
   ]
  },
  {
   "cell_type": "code",
   "execution_count": null,
   "id": "12081d6e",
   "metadata": {},
   "outputs": [
    {
     "name": "stdout",
     "output_type": "stream",
     "text": [
      "ATT estimate: [3.1189311]\n",
      "      2.5 %    97.5 %\n",
      "d  2.822394  3.415468\n"
     ]
    }
   ],
   "source": [
    "\n",
    "dml_did = DoubleMLDID(dml_data,\n",
    "                      ml_g=ml_g,\n",
    "                      ml_m=ml_m,\n",
    "                      score='observational',\n",
    "                      n_folds=5)\n",
    "dml_did.fit()\n",
    "\n",
    "print(\"ATT estimate:\", dml_did.coef)\n",
    "print(dml_did.confint(level=0.95))\n",
    "\n"
   ]
  },
  {
   "cell_type": "markdown",
   "id": "23cde0a4",
   "metadata": {},
   "source": [
    "Coverage 시뮬레이션"
   ]
  },
  {
   "cell_type": "code",
   "execution_count": 216,
   "id": "e68e211d",
   "metadata": {},
   "outputs": [
    {
     "name": "stdout",
     "output_type": "stream",
     "text": [
      "Iteration: 0/200\n",
      "Iteration: 20/200\n",
      "Iteration: 40/200\n",
      "Iteration: 60/200\n",
      "Iteration: 80/200\n",
      "Iteration: 100/200\n",
      "Iteration: 120/200\n",
      "Iteration: 140/200\n",
      "Iteration: 160/200\n",
      "Iteration: 180/200\n",
      "results from coverage simulation:\n",
      "True ATT: 3.0\n",
      "Estimated ATT: 2.991261797700492\n",
      "Coverage: 0.91\n",
      "Average CI length: 0.6293062710727478\n"
     ]
    }
   ],
   "source": [
    "\n",
    "\n",
    "n_rep = 200\n",
    "ATTE_estimates = np.full((n_rep), np.nan)\n",
    "coverage = np.full((n_rep), np.nan)\n",
    "ci_length = np.full((n_rep), np.nan)\n",
    "\n",
    "for i_rep in range(n_rep):\n",
    "    if (i_rep % int(n_rep/10)) == 0:\n",
    "        print(f'Iteration: {i_rep}/{n_rep}')\n",
    "    \n",
    "    data, true_att,_ = make_custom_did(n_obs=1000, n_time_periods=5, seed=i_rep)\n",
    "\n",
    "    dml_data = did_to_dml_format(data)\n",
    "    \n",
    " \n",
    "    dml_did = DoubleMLDID(dml_data, ml_g=ml_g, ml_m=ml_m, n_folds=5)\n",
    "    dml_did.fit()\n",
    "\n",
    "    ATTE_estimates[i_rep] = dml_did.coef.squeeze()\n",
    "    confint = dml_did.confint(level=0.95)\n",
    "    coverage[i_rep] = (confint['2.5 %'].iloc[0] <= true_att) & (true_att <= confint['97.5 %'].iloc[0])\n",
    "    ci_length[i_rep] = confint['97.5 %'].iloc[0] - confint['2.5 %'].iloc[0]\n",
    "\n",
    "\n",
    "    \n",
    "print(\"results from coverage simulation:\")\n",
    "print(f'True ATT: {true_att}')\n",
    "print(f'Estimated ATT: {np.mean(ATTE_estimates)}')\n",
    "print(f'Coverage: {coverage.mean()}')\n",
    "print(f'Average CI length: {ci_length.mean()}')"
   ]
  },
  {
   "cell_type": "code",
   "execution_count": 215,
   "id": "052565b9",
   "metadata": {},
   "outputs": [
    {
     "name": "stdout",
     "output_type": "stream",
     "text": [
      "results from coverage simulation:\n",
      "True ATT: 3.0\n",
      "Estimated ATT: 2.991261797700492\n",
      "Coverage: 0.91\n",
      "Average CI length: 0.6293062710727478\n"
     ]
    }
   ],
   "source": [
    "print(\"results from coverage simulation:\")\n",
    "print(f'True ATT: {true_att}')\n",
    "print(f'Estimated ATT: {np.mean(ATTE_estimates)}')\n",
    "print(f'Coverage: {coverage.mean()}')\n",
    "print(f'Average CI length: {ci_length.mean()}')"
   ]
  },
  {
   "cell_type": "markdown",
   "id": "124d75b8",
   "metadata": {},
   "source": [
    "본 시뮬레이션에서 설정된 진짜 ATT는 3.0이며, DoubleML-DID 추정량의 평균은 2.99로 거의 일치했습니다.\n",
    "\n",
    "또한, 95% 신뢰구간의 coverage는 약 91%로 나타났습니다. \n",
    "\n",
    "이는 신뢰구간이 다소 좁아 실제 모수를 포함하는 비율이 목표치(95%)보다 약간 낮다는 것을 의미합니다.  \n",
    "\n",
    "즉, 추정이 다소 과신(overconfident) 되는 경향이 있습니다.\n",
    "\n",
    "그럼에도 불구하고, finite-sample 환경에서는 여전히 비교적 준수한 수준이며, 목표치인 95%에 근접한 결과입니다. \n",
    "\n",
    "따라서 DoubleML-DID 추정법은 반복 표본에서 신뢰할 만한 추정치와 적절한 불확실성 추정을 제공함을 확인할 수 있습니다."
   ]
  },
  {
   "cell_type": "code",
   "execution_count": 188,
   "id": "cf32b307",
   "metadata": {},
   "outputs": [
    {
     "data": {
      "image/png": "[encoded data removed]",
      "text/plain": [
       "<Figure size 1000x750 with 1 Axes>"
      ]
     },
     "metadata": {},
     "output_type": "display_data"
    }
   ],
   "source": [
    "import pandas as pd\n",
    "import matplotlib.pyplot as plt\n",
    "import seaborn as sns\n",
    "\n",
    "df_pa = pd.DataFrame(ATTE_estimates, columns=['Estimate'])\n",
    "g = sns.kdeplot(df_pa, fill=True)\n",
    "plt.show()"
   ]
  },
  {
   "cell_type": "markdown",
   "id": "8867afe5",
   "metadata": {},
   "source": [
    "본 시뮬레이션에서 얻어진 ATT 추정치의 분포는 대체로 정규분포 형태를 보이며, 참값(3.0)을 중심으로 집중되어 있습니다. \n",
    "\n",
    "이는 DoubleML-DID 추정량이 점근적으로 정규분포에 수렴한다는 이론적 특성과 부합하며, 반복 표본에서도 편향 없이 안정적인 추정을 제공함을 시각적으로 확인할 수 있습니다."
   ]
  },
  {
   "cell_type": "markdown",
   "id": "a738a4c3",
   "metadata": {},
   "source": [
    "사전 추세 검정하기"
   ]
  },
  {
   "cell_type": "code",
   "execution_count": 173,
   "id": "f43a7643",
   "metadata": {},
   "outputs": [],
   "source": [
    "n_estimators = 50\n",
    "ml_g = LGBMRegressor(n_estimators=n_estimators, num_leaves=5, verbose=-1)\n",
    "ml_m = LGBMClassifier(n_estimators=n_estimators, num_leaves=5, verbose=-1)"
   ]
  },
  {
   "cell_type": "code",
   "execution_count": null,
   "id": "23790ea8",
   "metadata": {},
   "outputs": [],
   "source": [
    "n_time_periods=5\n",
    "data, _,mu_means = make_custom_did(n_obs=1000, n_time_periods=5, seed=i_rep)\n",
    "time_periods = (np.arange(2*n_time_periods) - n_time_periods)\n",
    "\n",
    "df = pd.DataFrame(np.nan,\n",
    "                  index=range(2*n_time_periods-1),\n",
    "                  columns=['lower', 'effect', 'upper'])\n",
    "df['time'] = time_periods[1:]\n",
    "df[\"true effect\"] = mu_means[1:]\n",
    "\n",
    "np.random.seed(42)\n",
    "for t_idx, t in enumerate(time_periods[1:]):\n",
    "    if t <= 0:\n",
    "        t_diff = t-1\n",
    "    else:\n",
    "        # compare to outcome before treatment\n",
    "        t_diff = -1\n",
    "    # outcome as the difference for each model\n",
    "    \n",
    "    y_diff = data[data['t'] == t]['y'].values - data[data['t'] == t_diff]['y'].values\n",
    "    covariates = np.column_stack((data[data['t'] == t][[f'X{i}' for i in range(4)]].values, data[data['t'] == t_diff][[f'X{i}' for i in range(4)]].values))\n",
    "    dml_data = DoubleMLData.from_arrays(x=covariates,\n",
    "                                        y=y_diff,\n",
    "                                        d=data[data['t'] == t]['d'].values)\n",
    "    dml_did = DoubleMLDID(dml_data,\n",
    "                          ml_g=ml_g,\n",
    "                          ml_m=ml_m)\n",
    "    dml_did.fit()\n",
    "\n",
    "    df.at[t_idx, 'effect'] = dml_did.coef \n",
    "    confint = dml_did.confint(level=0.95)\n",
    "    df.at[t_idx, 'lower'] = confint['2.5 %'].iloc[0]\n",
    "    df.at[t_idx, 'upper'] = confint['97.5 %'].iloc[0]\n",
    "    df[\"true effect\"] = mu_means[1:]"
   ]
  },
  {
   "cell_type": "code",
   "execution_count": 208,
   "id": "b9d632d7",
   "metadata": {},
   "outputs": [
    {
     "data": {
      "text/html": [
       "<div>\n",
       "<style scoped>\n",
       "    .dataframe tbody tr th:only-of-type {\n",
       "        vertical-align: middle;\n",
       "    }\n",
       "\n",
       "    .dataframe tbody tr th {\n",
       "        vertical-align: top;\n",
       "    }\n",
       "\n",
       "    .dataframe thead th {\n",
       "        text-align: right;\n",
       "    }\n",
       "</style>\n",
       "<table border=\"1\" class=\"dataframe\">\n",
       "  <thead>\n",
       "    <tr style=\"text-align: right;\">\n",
       "      <th></th>\n",
       "      <th>lower</th>\n",
       "      <th>effect</th>\n",
       "      <th>upper</th>\n",
       "      <th>time</th>\n",
       "      <th>true effect</th>\n",
       "    </tr>\n",
       "  </thead>\n",
       "  <tbody>\n",
       "    <tr>\n",
       "      <th>0</th>\n",
       "      <td>-0.622488</td>\n",
       "      <td>-0.223705</td>\n",
       "      <td>0.175077</td>\n",
       "      <td>-4</td>\n",
       "      <td>0.0</td>\n",
       "    </tr>\n",
       "    <tr>\n",
       "      <th>1</th>\n",
       "      <td>-0.259171</td>\n",
       "      <td>0.085002</td>\n",
       "      <td>0.429174</td>\n",
       "      <td>-3</td>\n",
       "      <td>0.0</td>\n",
       "    </tr>\n",
       "    <tr>\n",
       "      <th>2</th>\n",
       "      <td>-0.566082</td>\n",
       "      <td>-0.204853</td>\n",
       "      <td>0.156376</td>\n",
       "      <td>-2</td>\n",
       "      <td>0.0</td>\n",
       "    </tr>\n",
       "    <tr>\n",
       "      <th>3</th>\n",
       "      <td>-0.397169</td>\n",
       "      <td>-0.035365</td>\n",
       "      <td>0.326439</td>\n",
       "      <td>-1</td>\n",
       "      <td>0.0</td>\n",
       "    </tr>\n",
       "    <tr>\n",
       "      <th>4</th>\n",
       "      <td>4.664547</td>\n",
       "      <td>5.010711</td>\n",
       "      <td>5.356875</td>\n",
       "      <td>0</td>\n",
       "      <td>5.0</td>\n",
       "    </tr>\n",
       "    <tr>\n",
       "      <th>5</th>\n",
       "      <td>3.564744</td>\n",
       "      <td>3.941238</td>\n",
       "      <td>4.317732</td>\n",
       "      <td>1</td>\n",
       "      <td>4.0</td>\n",
       "    </tr>\n",
       "    <tr>\n",
       "      <th>6</th>\n",
       "      <td>2.295386</td>\n",
       "      <td>2.791091</td>\n",
       "      <td>3.286796</td>\n",
       "      <td>2</td>\n",
       "      <td>3.0</td>\n",
       "    </tr>\n",
       "    <tr>\n",
       "      <th>7</th>\n",
       "      <td>1.757909</td>\n",
       "      <td>2.127233</td>\n",
       "      <td>2.496557</td>\n",
       "      <td>3</td>\n",
       "      <td>2.0</td>\n",
       "    </tr>\n",
       "    <tr>\n",
       "      <th>8</th>\n",
       "      <td>0.719589</td>\n",
       "      <td>1.049249</td>\n",
       "      <td>1.378908</td>\n",
       "      <td>4</td>\n",
       "      <td>1.0</td>\n",
       "    </tr>\n",
       "  </tbody>\n",
       "</table>\n",
       "</div>"
      ],
      "text/plain": [
       "      lower    effect     upper  time  true effect\n",
       "0 -0.622488 -0.223705  0.175077    -4          0.0\n",
       "1 -0.259171  0.085002  0.429174    -3          0.0\n",
       "2 -0.566082 -0.204853  0.156376    -2          0.0\n",
       "3 -0.397169 -0.035365  0.326439    -1          0.0\n",
       "4  4.664547  5.010711  5.356875     0          5.0\n",
       "5  3.564744  3.941238  4.317732     1          4.0\n",
       "6  2.295386  2.791091  3.286796     2          3.0\n",
       "7  1.757909  2.127233  2.496557     3          2.0\n",
       "8  0.719589  1.049249  1.378908     4          1.0"
      ]
     },
     "execution_count": 208,
     "metadata": {},
     "output_type": "execute_result"
    }
   ],
   "source": [
    "df"
   ]
  },
  {
   "cell_type": "markdown",
   "id": "7dc04ed4",
   "metadata": {},
   "source": [
    "결과 시각화"
   ]
  },
  {
   "cell_type": "code",
   "execution_count": 206,
   "id": "d073f8ab",
   "metadata": {},
   "outputs": [
    {
     "data": {
      "image/png": "[encoded data removed]",
      "text/plain": [
       "<Figure size 1000x750 with 1 Axes>"
      ]
     },
     "metadata": {},
     "output_type": "display_data"
    }
   ],
   "source": [
    "import matplotlib.pyplot as plt\n",
    "plt.rcParams['figure.figsize'] = 10., 7.5\n",
    "fig, ax = plt.subplots()\n",
    "\n",
    "errors = np.full((2, 2*n_time_periods - 1), np.nan)\n",
    "errors[0, :] = df['effect'] -   df['lower']\n",
    "errors[1, :] = df['upper'] - df['effect']\n",
    "\n",
    "plt.errorbar(df['time'], df['effect'], fmt='o', yerr=errors, color='#1F77B4',\n",
    "             ecolor='#1F77B4', label='Estimated Effect (with CI)')\n",
    "ax.plot(time_periods[1:], df['effect'], linestyle='--', color='#1F77B4', linewidth=1)\n",
    "\n",
    "# add horizontal line\n",
    "ax.axhline(y=0, color='r', linestyle='--', linewidth=1)\n",
    "\n",
    "# add true effect\n",
    "ax.scatter(x=df['time'], y=df['true effect'], c='#FF7F0E', label='True Effect')\n",
    "\n",
    "plt.xlabel('Exposure')\n",
    "plt.legend()\n",
    "_ = plt.ylabel('Effect and 95%-CI')"
   ]
  },
  {
   "cell_type": "markdown",
   "id": "6f9fae36",
   "metadata": {},
   "source": [
    "- 사전 구간에서 모든 추정치의 CI가 0을 포함하므로, 평행추세 가정은 위배되지 않았다고 해석할 수 있습니다.\n",
    "\n",
    "- 또, 사후 구간에서 True Effect를 잘 커버하고 있으므로 추정량이 일관되고 신뢰할 만하다고 말할 수 있습니다."
   ]
  },
  {
   "cell_type": "code",
   "execution_count": null,
   "id": "21fc4727",
   "metadata": {},
   "outputs": [],
   "source": []
  }
 ],
 "metadata": {
  "celltoolbar": "Tags",
  "kernelspec": {
   "display_name": "fack_cl",
   "language": "python",
   "name": "python3"
  },
  "language_info": {
   "codemirror_mode": {
    "name": "ipython",
    "version": 3
   },
   "file_extension": ".py",
   "mimetype": "text/x-python",
   "name": "python",
   "nbconvert_exporter": "python",
   "pygments_lexer": "ipython3",
   "version": "3.10.16"
  },
  "toc": {
   "base_numbering": 1,
   "nav_menu": {},
   "number_sections": true,
   "sideBar": true,
   "skip_h1_title": false,
   "title_cell": "Table of Contents",
   "title_sidebar": "Contents",
   "toc_cell": false,
   "toc_position": {},
   "toc_section_display": true,
   "toc_window_display": false
  },
  "varInspector": {
   "cols": {
    "lenName": 16,
    "lenType": 16,
    "lenVar": 40
   },
   "kernels_config": {
    "python": {
     "delete_cmd_postfix": "",
     "delete_cmd_prefix": "del ",
     "library": "var_list.py",
     "varRefreshCmd": "print(var_dic_list())"
    },
    "r": {
     "delete_cmd_postfix": ") ",
     "delete_cmd_prefix": "rm(",
     "library": "var_list.r",
     "varRefreshCmd": "cat(var_dic_list()) "
    }
   },
   "types_to_exclude": [
    "module",
    "function",
    "builtin_function_or_method",
    "instance",
    "_Feature"
   ],
   "window_display": false
  }
 },
 "nbformat": 4,
 "nbformat_minor": 5
}
