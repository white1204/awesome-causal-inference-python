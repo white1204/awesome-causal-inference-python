{
 "cells": [
  {
   "cell_type": "markdown",
   "id": "2fa76ef6",
   "metadata": {},
   "source": [
    "# Difference-in-Difference (DiD)"
   ]
  },
  {
   "cell_type": "markdown",
   "id": "8a671f4c",
   "metadata": {},
   "source": [
    "- 출처\n",
    "    - 실무로 통하는 인과추론 with 파이썬"
   ]
  },
  {
   "cell_type": "code",
   "execution_count": 1,
   "id": "f1cc97bd",
   "metadata": {},
   "outputs": [
    {
     "name": "stdout",
     "output_type": "stream",
     "text": [
      "Requirement already satisfied: toolz in /Users/kimsieun/대학원/가짜연구소/11기/fack_cl/lib/python3.10/site-packages (1.0.0)\n",
      "\n",
      "\u001b[1m[\u001b[0m\u001b[34;49mnotice\u001b[0m\u001b[1;39;49m]\u001b[0m\u001b[39;49m A new release of pip is available: \u001b[0m\u001b[31;49m25.1.1\u001b[0m\u001b[39;49m -> \u001b[0m\u001b[32;49m25.2\u001b[0m\n",
      "\u001b[1m[\u001b[0m\u001b[34;49mnotice\u001b[0m\u001b[1;39;49m]\u001b[0m\u001b[39;49m To update, run: \u001b[0m\u001b[32;49mpip install --upgrade pip\u001b[0m\n"
     ]
    }
   ],
   "source": [
    "!pip install toolz"
   ]
  },
  {
   "cell_type": "code",
   "execution_count": 12,
   "id": "ac5e48f1",
   "metadata": {},
   "outputs": [
    {
     "name": "stdout",
     "output_type": "stream",
     "text": [
      "Collecting tidyfinance\n",
      "  Downloading tidyfinance-0.1.2-py3-none-any.whl.metadata (5.8 kB)\n",
      "Collecting curl-cffi>=0.10.0 (from tidyfinance)\n",
      "  Downloading curl_cffi-0.13.0-cp39-abi3-macosx_11_0_arm64.whl.metadata (13 kB)\n",
      "Collecting dotenv>=0.9.9 (from tidyfinance)\n",
      "  Downloading dotenv-0.9.9-py2.py3-none-any.whl.metadata (279 bytes)\n",
      "Requirement already satisfied: lxml>=5.3.1 in /Users/kimsieun/대학원/가짜연구소/11기/fack_cl/lib/python3.10/site-packages (from tidyfinance) (6.0.0)\n",
      "Requirement already satisfied: numpy>=1.26.0 in /Users/kimsieun/대학원/가짜연구소/11기/fack_cl/lib/python3.10/site-packages (from tidyfinance) (2.2.6)\n",
      "Collecting pandas-datareader>=0.10.0 (from tidyfinance)\n",
      "  Downloading pandas_datareader-0.10.0-py3-none-any.whl.metadata (2.9 kB)\n",
      "Requirement already satisfied: pandas>=2.2.0 in /Users/kimsieun/대학원/가짜연구소/11기/fack_cl/lib/python3.10/site-packages (from tidyfinance) (2.3.1)\n",
      "Collecting psycopg2-binary>=2.9.9 (from tidyfinance)\n",
      "  Downloading psycopg2_binary-2.9.10-cp310-cp310-macosx_14_0_arm64.whl.metadata (4.9 kB)\n",
      "Collecting pyarrow>=19.0.1 (from tidyfinance)\n",
      "  Downloading pyarrow-21.0.0-cp310-cp310-macosx_12_0_arm64.whl.metadata (3.3 kB)\n",
      "Requirement already satisfied: pyyaml>=6.0.2 in /Users/kimsieun/대학원/가짜연구소/11기/fack_cl/lib/python3.10/site-packages (from tidyfinance) (6.0.2)\n",
      "Requirement already satisfied: requests>=2.31.0 in /Users/kimsieun/대학원/가짜연구소/11기/fack_cl/lib/python3.10/site-packages (from tidyfinance) (2.32.4)\n",
      "Collecting sqlalchemy>=2.0.21 (from tidyfinance)\n",
      "  Downloading sqlalchemy-2.0.43-cp310-cp310-macosx_11_0_arm64.whl.metadata (9.6 kB)\n",
      "Requirement already satisfied: statsmodels>=0.14.0 in /Users/kimsieun/대학원/가짜연구소/11기/fack_cl/lib/python3.10/site-packages (from tidyfinance) (0.14.5)\n",
      "Collecting cffi>=1.12.0 (from curl-cffi>=0.10.0->tidyfinance)\n",
      "  Downloading cffi-2.0.0-cp310-cp310-macosx_11_0_arm64.whl.metadata (2.6 kB)\n",
      "Requirement already satisfied: certifi>=2024.2.2 in /Users/kimsieun/대학원/가짜연구소/11기/fack_cl/lib/python3.10/site-packages (from curl-cffi>=0.10.0->tidyfinance) (2025.7.9)\n",
      "Collecting pycparser (from cffi>=1.12.0->curl-cffi>=0.10.0->tidyfinance)\n",
      "  Downloading pycparser-2.23-py3-none-any.whl.metadata (993 bytes)\n",
      "Collecting python-dotenv (from dotenv>=0.9.9->tidyfinance)\n",
      "  Downloading python_dotenv-1.1.1-py3-none-any.whl.metadata (24 kB)\n",
      "Requirement already satisfied: python-dateutil>=2.8.2 in /Users/kimsieun/대학원/가짜연구소/11기/fack_cl/lib/python3.10/site-packages (from pandas>=2.2.0->tidyfinance) (2.9.0.post0)\n",
      "Requirement already satisfied: pytz>=2020.1 in /Users/kimsieun/대학원/가짜연구소/11기/fack_cl/lib/python3.10/site-packages (from pandas>=2.2.0->tidyfinance) (2025.2)\n",
      "Requirement already satisfied: tzdata>=2022.7 in /Users/kimsieun/대학원/가짜연구소/11기/fack_cl/lib/python3.10/site-packages (from pandas>=2.2.0->tidyfinance) (2025.2)\n",
      "Requirement already satisfied: six>=1.5 in /Users/kimsieun/대학원/가짜연구소/11기/fack_cl/lib/python3.10/site-packages (from python-dateutil>=2.8.2->pandas>=2.2.0->tidyfinance) (1.17.0)\n",
      "Requirement already satisfied: charset_normalizer<4,>=2 in /Users/kimsieun/대학원/가짜연구소/11기/fack_cl/lib/python3.10/site-packages (from requests>=2.31.0->tidyfinance) (3.4.2)\n",
      "Requirement already satisfied: idna<4,>=2.5 in /Users/kimsieun/대학원/가짜연구소/11기/fack_cl/lib/python3.10/site-packages (from requests>=2.31.0->tidyfinance) (3.10)\n",
      "Requirement already satisfied: urllib3<3,>=1.21.1 in /Users/kimsieun/대학원/가짜연구소/11기/fack_cl/lib/python3.10/site-packages (from requests>=2.31.0->tidyfinance) (2.5.0)\n",
      "Requirement already satisfied: typing-extensions>=4.6.0 in /Users/kimsieun/대학원/가짜연구소/11기/fack_cl/lib/python3.10/site-packages (from sqlalchemy>=2.0.21->tidyfinance) (4.14.1)\n",
      "Requirement already satisfied: scipy!=1.9.2,>=1.8 in /Users/kimsieun/대학원/가짜연구소/11기/fack_cl/lib/python3.10/site-packages (from statsmodels>=0.14.0->tidyfinance) (1.15.3)\n",
      "Requirement already satisfied: patsy>=0.5.6 in /Users/kimsieun/대학원/가짜연구소/11기/fack_cl/lib/python3.10/site-packages (from statsmodels>=0.14.0->tidyfinance) (1.0.1)\n",
      "Requirement already satisfied: packaging>=21.3 in /Users/kimsieun/대학원/가짜연구소/11기/fack_cl/lib/python3.10/site-packages (from statsmodels>=0.14.0->tidyfinance) (25.0)\n",
      "Downloading tidyfinance-0.1.2-py3-none-any.whl (27 kB)\n",
      "Downloading curl_cffi-0.13.0-cp39-abi3-macosx_11_0_arm64.whl (3.0 MB)\n",
      "\u001b[2K   \u001b[90m━━━━━━━━━━━━━━━━━━━━━━━━━━━━━━━━━━━━━━━━\u001b[0m \u001b[32m3.0/3.0 MB\u001b[0m \u001b[31m4.0 MB/s\u001b[0m eta \u001b[36m0:00:00\u001b[0ma \u001b[36m0:00:01\u001b[0m\n",
      "\u001b[?25hDownloading cffi-2.0.0-cp310-cp310-macosx_11_0_arm64.whl (180 kB)\n",
      "Downloading dotenv-0.9.9-py2.py3-none-any.whl (1.9 kB)\n",
      "Downloading pandas_datareader-0.10.0-py3-none-any.whl (109 kB)\n",
      "Downloading psycopg2_binary-2.9.10-cp310-cp310-macosx_14_0_arm64.whl (3.3 MB)\n",
      "\u001b[2K   \u001b[90m━━━━━━━━━━━━━━━━━━━━━━━━━━━━━━━━━━━━━━━━\u001b[0m \u001b[32m3.3/3.3 MB\u001b[0m \u001b[31m3.4 MB/s\u001b[0m eta \u001b[36m0:00:00\u001b[0ma \u001b[36m0:00:01\u001b[0m\n",
      "\u001b[?25hDownloading pyarrow-21.0.0-cp310-cp310-macosx_12_0_arm64.whl (31.2 MB)\n",
      "\u001b[2K   \u001b[90m━━━━━━━━━━━━━━━━━━━━━━━━━━━━━━━━━━━━━━━━\u001b[0m \u001b[32m31.2/31.2 MB\u001b[0m \u001b[31m3.5 MB/s\u001b[0m eta \u001b[36m0:00:00\u001b[0m00:01\u001b[0m00:01\u001b[0m\n",
      "\u001b[?25hDownloading sqlalchemy-2.0.43-cp310-cp310-macosx_11_0_arm64.whl (2.1 MB)\n",
      "\u001b[2K   \u001b[90m━━━━━━━━━━━━━━━━━━━━━━━━━━━━━━━━━━━━━━━━\u001b[0m \u001b[32m2.1/2.1 MB\u001b[0m \u001b[31m3.6 MB/s\u001b[0m eta \u001b[36m0:00:00\u001b[0ma \u001b[36m0:00:01\u001b[0m\n",
      "\u001b[?25hDownloading pycparser-2.23-py3-none-any.whl (118 kB)\n",
      "Downloading python_dotenv-1.1.1-py3-none-any.whl (20 kB)\n",
      "Installing collected packages: sqlalchemy, python-dotenv, pycparser, pyarrow, psycopg2-binary, dotenv, cffi, pandas-datareader, curl-cffi, tidyfinance\n",
      "\u001b[2K   \u001b[90m━━━━━━━━━━━━━━━━━━━━━━━━━━━━━━━━━━━━━━━━\u001b[0m \u001b[32m10/10\u001b[0m [tidyfinance]\u001b[0m [curl-cffi]areader]\n",
      "\u001b[1A\u001b[2KSuccessfully installed cffi-2.0.0 curl-cffi-0.13.0 dotenv-0.9.9 pandas-datareader-0.10.0 psycopg2-binary-2.9.10 pyarrow-21.0.0 pycparser-2.23 python-dotenv-1.1.1 sqlalchemy-2.0.43 tidyfinance-0.1.2\n",
      "\n",
      "\u001b[1m[\u001b[0m\u001b[34;49mnotice\u001b[0m\u001b[1;39;49m]\u001b[0m\u001b[39;49m A new release of pip is available: \u001b[0m\u001b[31;49m25.1.1\u001b[0m\u001b[39;49m -> \u001b[0m\u001b[32;49m25.2\u001b[0m\n",
      "\u001b[1m[\u001b[0m\u001b[34;49mnotice\u001b[0m\u001b[1;39;49m]\u001b[0m\u001b[39;49m To update, run: \u001b[0m\u001b[32;49mpip install --upgrade pip\u001b[0m\n"
     ]
    }
   ],
   "source": [
    "!pip install tidyfinance"
   ]
  },
  {
   "cell_type": "code",
   "execution_count": 19,
   "id": "d62490b8",
   "metadata": {},
   "outputs": [
    {
     "name": "stdout",
     "output_type": "stream",
     "text": [
      "Collecting pyfixest\n",
      "  Downloading pyfixest-0.30.2.tar.gz (4.1 MB)\n",
      "\u001b[2K     \u001b[90m━━━━━━━━━━━━━━━━━━━━━━━━━━━━━━━━━━━━━━━━\u001b[0m \u001b[32m4.1/4.1 MB\u001b[0m \u001b[31m3.5 MB/s\u001b[0m eta \u001b[36m0:00:00\u001b[0ma \u001b[36m0:00:01\u001b[0mm\n",
      "\u001b[?25h  Installing build dependencies ... \u001b[?25ldone\n",
      "\u001b[?25h  Getting requirements to build wheel ... \u001b[?25ldone\n",
      "\u001b[?25h  Installing backend dependencies ... \u001b[?25ldone\n",
      "\u001b[?25h  Preparing metadata (pyproject.toml) ... \u001b[?25ldone\n",
      "\u001b[?25hRequirement already satisfied: scipy<1.16,>=1.6 in /Users/kimsieun/대학원/가짜연구소/11기/fack_cl/lib/python3.10/site-packages (from pyfixest) (1.15.3)\n",
      "Collecting formulaic>=1.1.0 (from pyfixest)\n",
      "  Downloading formulaic-1.2.0-py3-none-any.whl.metadata (7.0 kB)\n",
      "Requirement already satisfied: pandas>=1.1.0 in /Users/kimsieun/대학원/가짜연구소/11기/fack_cl/lib/python3.10/site-packages (from pyfixest) (2.3.1)\n",
      "Requirement already satisfied: numba>=0.58.0 in /Users/kimsieun/대학원/가짜연구소/11기/fack_cl/lib/python3.10/site-packages (from pyfixest) (0.61.2)\n",
      "Requirement already satisfied: seaborn>=0.13.2 in /Users/kimsieun/대학원/가짜연구소/11기/fack_cl/lib/python3.10/site-packages (from pyfixest) (0.13.2)\n",
      "Collecting tabulate>=0.9.0 (from pyfixest)\n",
      "  Downloading tabulate-0.9.0-py3-none-any.whl.metadata (34 kB)\n",
      "Requirement already satisfied: tqdm>=4.0.0 in /Users/kimsieun/대학원/가짜연구소/11기/fack_cl/lib/python3.10/site-packages (from pyfixest) (4.67.1)\n",
      "Collecting great-tables>=0.10.0 (from pyfixest)\n",
      "  Downloading great_tables-0.18.0-py3-none-any.whl.metadata (12 kB)\n",
      "Requirement already satisfied: numpy>=1.25.2 in /Users/kimsieun/대학원/가짜연구소/11기/fack_cl/lib/python3.10/site-packages (from pyfixest) (2.2.6)\n",
      "Collecting narwhals>=1.13.3 (from pyfixest)\n",
      "  Downloading narwhals-2.5.0-py3-none-any.whl.metadata (11 kB)\n",
      "Requirement already satisfied: joblib<2,>=1.4.2 in /Users/kimsieun/대학원/가짜연구소/11기/fack_cl/lib/python3.10/site-packages (from pyfixest) (1.5.1)\n",
      "Collecting interface-meta>=1.2.0 (from formulaic>=1.1.0->pyfixest)\n",
      "  Downloading interface_meta-1.3.0-py3-none-any.whl.metadata (6.7 kB)\n",
      "Requirement already satisfied: typing-extensions>=4.2.0 in /Users/kimsieun/대학원/가짜연구소/11기/fack_cl/lib/python3.10/site-packages (from formulaic>=1.1.0->pyfixest) (4.14.1)\n",
      "Collecting wrapt>=1.0 (from formulaic>=1.1.0->pyfixest)\n",
      "  Downloading wrapt-1.17.3-cp310-cp310-macosx_11_0_arm64.whl.metadata (6.4 kB)\n",
      "Collecting commonmark>=0.9.1 (from great-tables>=0.10.0->pyfixest)\n",
      "  Downloading commonmark-0.9.1-py2.py3-none-any.whl.metadata (5.7 kB)\n",
      "Collecting faicons>=0.2.2 (from great-tables>=0.10.0->pyfixest)\n",
      "  Downloading faicons-0.2.2-py3-none-any.whl.metadata (1.8 kB)\n",
      "Collecting htmltools>=0.4.1 (from great-tables>=0.10.0->pyfixest)\n",
      "  Downloading htmltools-0.6.0-py3-none-any.whl.metadata (3.3 kB)\n",
      "Collecting importlib-metadata (from great-tables>=0.10.0->pyfixest)\n",
      "  Downloading importlib_metadata-8.7.0-py3-none-any.whl.metadata (4.8 kB)\n",
      "Collecting Babel>=2.13.1 (from great-tables>=0.10.0->pyfixest)\n",
      "  Downloading babel-2.17.0-py3-none-any.whl.metadata (2.0 kB)\n",
      "Collecting importlib-resources (from great-tables>=0.10.0->pyfixest)\n",
      "  Downloading importlib_resources-6.5.2-py3-none-any.whl.metadata (3.9 kB)\n",
      "Requirement already satisfied: packaging>=20.9 in /Users/kimsieun/대학원/가짜연구소/11기/fack_cl/lib/python3.10/site-packages (from htmltools>=0.4.1->great-tables>=0.10.0->pyfixest) (25.0)\n",
      "Requirement already satisfied: llvmlite<0.45,>=0.44.0dev0 in /Users/kimsieun/대학원/가짜연구소/11기/fack_cl/lib/python3.10/site-packages (from numba>=0.58.0->pyfixest) (0.44.0)\n",
      "Requirement already satisfied: python-dateutil>=2.8.2 in /Users/kimsieun/대학원/가짜연구소/11기/fack_cl/lib/python3.10/site-packages (from pandas>=1.1.0->pyfixest) (2.9.0.post0)\n",
      "Requirement already satisfied: pytz>=2020.1 in /Users/kimsieun/대학원/가짜연구소/11기/fack_cl/lib/python3.10/site-packages (from pandas>=1.1.0->pyfixest) (2025.2)\n",
      "Requirement already satisfied: tzdata>=2022.7 in /Users/kimsieun/대학원/가짜연구소/11기/fack_cl/lib/python3.10/site-packages (from pandas>=1.1.0->pyfixest) (2025.2)\n",
      "Requirement already satisfied: six>=1.5 in /Users/kimsieun/대학원/가짜연구소/11기/fack_cl/lib/python3.10/site-packages (from python-dateutil>=2.8.2->pandas>=1.1.0->pyfixest) (1.17.0)\n",
      "Requirement already satisfied: matplotlib!=3.6.1,>=3.4 in /Users/kimsieun/대학원/가짜연구소/11기/fack_cl/lib/python3.10/site-packages (from seaborn>=0.13.2->pyfixest) (3.10.3)\n",
      "Requirement already satisfied: contourpy>=1.0.1 in /Users/kimsieun/대학원/가짜연구소/11기/fack_cl/lib/python3.10/site-packages (from matplotlib!=3.6.1,>=3.4->seaborn>=0.13.2->pyfixest) (1.3.2)\n",
      "Requirement already satisfied: cycler>=0.10 in /Users/kimsieun/대학원/가짜연구소/11기/fack_cl/lib/python3.10/site-packages (from matplotlib!=3.6.1,>=3.4->seaborn>=0.13.2->pyfixest) (0.12.1)\n",
      "Requirement already satisfied: fonttools>=4.22.0 in /Users/kimsieun/대학원/가짜연구소/11기/fack_cl/lib/python3.10/site-packages (from matplotlib!=3.6.1,>=3.4->seaborn>=0.13.2->pyfixest) (4.58.5)\n",
      "Requirement already satisfied: kiwisolver>=1.3.1 in /Users/kimsieun/대학원/가짜연구소/11기/fack_cl/lib/python3.10/site-packages (from matplotlib!=3.6.1,>=3.4->seaborn>=0.13.2->pyfixest) (1.4.8)\n",
      "Requirement already satisfied: pillow>=8 in /Users/kimsieun/대학원/가짜연구소/11기/fack_cl/lib/python3.10/site-packages (from matplotlib!=3.6.1,>=3.4->seaborn>=0.13.2->pyfixest) (11.3.0)\n",
      "Requirement already satisfied: pyparsing>=2.3.1 in /Users/kimsieun/대학원/가짜연구소/11기/fack_cl/lib/python3.10/site-packages (from matplotlib!=3.6.1,>=3.4->seaborn>=0.13.2->pyfixest) (3.2.3)\n",
      "Collecting zipp>=3.20 (from importlib-metadata->great-tables>=0.10.0->pyfixest)\n",
      "  Downloading zipp-3.23.0-py3-none-any.whl.metadata (3.6 kB)\n",
      "Downloading formulaic-1.2.0-py3-none-any.whl (117 kB)\n",
      "Downloading great_tables-0.18.0-py3-none-any.whl (1.4 MB)\n",
      "\u001b[2K   \u001b[90m━━━━━━━━━━━━━━━━━━━━━━━━━━━━━━━━━━━━━━━━\u001b[0m \u001b[32m1.4/1.4 MB\u001b[0m \u001b[31m4.0 MB/s\u001b[0m eta \u001b[36m0:00:00\u001b[0ma \u001b[36m0:00:01\u001b[0m\n",
      "\u001b[?25hDownloading babel-2.17.0-py3-none-any.whl (10.2 MB)\n",
      "\u001b[2K   \u001b[90m━━━━━━━━━━━━━━━━━━━━━━━━━━━━━━━━━━━━━━━━\u001b[0m \u001b[32m10.2/10.2 MB\u001b[0m \u001b[31m3.5 MB/s\u001b[0m eta \u001b[36m0:00:00\u001b[0m \u001b[36m0:00:01\u001b[0m\n",
      "\u001b[?25hDownloading commonmark-0.9.1-py2.py3-none-any.whl (51 kB)\n",
      "Downloading faicons-0.2.2-py3-none-any.whl (607 kB)\n",
      "\u001b[2K   \u001b[90m━━━━━━━━━━━━━━━━━━━━━━━━━━━━━━━━━━━━━━━━\u001b[0m \u001b[32m607.2/607.2 kB\u001b[0m \u001b[31m6.1 MB/s\u001b[0m eta \u001b[36m0:00:00\u001b[0m\n",
      "\u001b[?25hDownloading htmltools-0.6.0-py3-none-any.whl (84 kB)\n",
      "Downloading interface_meta-1.3.0-py3-none-any.whl (14 kB)\n",
      "Downloading narwhals-2.5.0-py3-none-any.whl (407 kB)\n",
      "Downloading tabulate-0.9.0-py3-none-any.whl (35 kB)\n",
      "Downloading wrapt-1.17.3-cp310-cp310-macosx_11_0_arm64.whl (38 kB)\n",
      "Downloading importlib_metadata-8.7.0-py3-none-any.whl (27 kB)\n",
      "Downloading zipp-3.23.0-py3-none-any.whl (10 kB)\n",
      "Downloading importlib_resources-6.5.2-py3-none-any.whl (37 kB)\n",
      "Building wheels for collected packages: pyfixest\n",
      "  Building wheel for pyfixest (pyproject.toml) ... \u001b[?25ldone\n",
      "\u001b[?25h  Created wheel for pyfixest: filename=pyfixest-0.30.2-cp310-cp310-macosx_11_0_arm64.whl size=2472651 sha256=370ddae650fe4c72c542076a9601be833bf7a0307347c449c84550020a66d844\n",
      "  Stored in directory: /Users/kimsieun/Library/Caches/pip/wheels/3b/5b/80/a1c9daef56e29386e5317005354c6ed64b72034f35c7046fe5\n",
      "Successfully built pyfixest\n",
      "Installing collected packages: commonmark, zipp, wrapt, tabulate, narwhals, interface-meta, importlib-resources, htmltools, Babel, importlib-metadata, faicons, great-tables, formulaic, pyfixest\n",
      "\u001b[2K   \u001b[90m━━━━━━━━━━━━━━━━━━━━━━━━━━━━━━━━━━━━━━━━\u001b[0m \u001b[32m14/14\u001b[0m [pyfixest]/14\u001b[0m [pyfixest]]es]ources]\n",
      "\u001b[1A\u001b[2KSuccessfully installed Babel-2.17.0 commonmark-0.9.1 faicons-0.2.2 formulaic-1.2.0 great-tables-0.18.0 htmltools-0.6.0 importlib-metadata-8.7.0 importlib-resources-6.5.2 interface-meta-1.3.0 narwhals-2.5.0 pyfixest-0.30.2 tabulate-0.9.0 wrapt-1.17.3 zipp-3.23.0\n",
      "\n",
      "\u001b[1m[\u001b[0m\u001b[34;49mnotice\u001b[0m\u001b[1;39;49m]\u001b[0m\u001b[39;49m A new release of pip is available: \u001b[0m\u001b[31;49m25.1.1\u001b[0m\u001b[39;49m -> \u001b[0m\u001b[32;49m25.2\u001b[0m\n",
      "\u001b[1m[\u001b[0m\u001b[34;49mnotice\u001b[0m\u001b[1;39;49m]\u001b[0m\u001b[39;49m To update, run: \u001b[0m\u001b[32;49mpip install --upgrade pip\u001b[0m\n"
     ]
    }
   ],
   "source": [
    "!pip install pyfixest"
   ]
  },
  {
   "cell_type": "code",
   "execution_count": 20,
   "id": "2c650ac3",
   "metadata": {},
   "outputs": [],
   "source": [
    "import pyfixest as pf"
   ]
  },
  {
   "cell_type": "code",
   "execution_count": 2,
   "id": "a6d9bc21",
   "metadata": {
    "ExecuteTime": {
     "end_time": "2024-01-20T14:39:09.552555Z",
     "start_time": "2024-01-20T14:39:06.893550Z"
    },
    "tags": [
     "hide-input"
    ]
   },
   "outputs": [],
   "source": [
    "from toolz import *\n",
    "\n",
    "import pandas as pd\n",
    "import numpy as np\n",
    "\n",
    "import statsmodels.formula.api as smf\n",
    "\n",
    "import seaborn as sns\n",
    "from matplotlib import pyplot as plt\n",
    "import matplotlib\n",
    "\n",
    "from cycler import cycler\n",
    "\n",
    "color=['0.0', '0.4', '0.8']\n",
    "default_cycler = (cycler(color=color))\n",
    "linestyle=['-', '--', ':', '-.']\n",
    "marker=['o', 'v', 'd', 'p']\n",
    "\n",
    "plt.rc('axes', prop_cycle=default_cycler)"
   ]
  },
  {
   "cell_type": "code",
   "execution_count": 3,
   "id": "d17c7963",
   "metadata": {
    "ExecuteTime": {
     "end_time": "2024-01-20T14:39:09.589128Z",
     "start_time": "2024-01-20T14:39:09.554340Z"
    }
   },
   "outputs": [
    {
     "data": {
      "text/html": [
       "<div>\n",
       "<style scoped>\n",
       "    .dataframe tbody tr th:only-of-type {\n",
       "        vertical-align: middle;\n",
       "    }\n",
       "\n",
       "    .dataframe tbody tr th {\n",
       "        vertical-align: top;\n",
       "    }\n",
       "\n",
       "    .dataframe thead th {\n",
       "        text-align: right;\n",
       "    }\n",
       "</style>\n",
       "<table border=\"1\" class=\"dataframe\">\n",
       "  <thead>\n",
       "    <tr style=\"text-align: right;\">\n",
       "      <th></th>\n",
       "      <th>date</th>\n",
       "      <th>city</th>\n",
       "      <th>region</th>\n",
       "      <th>treated</th>\n",
       "      <th>tau</th>\n",
       "      <th>downloads</th>\n",
       "      <th>post</th>\n",
       "    </tr>\n",
       "  </thead>\n",
       "  <tbody>\n",
       "    <tr>\n",
       "      <th>0</th>\n",
       "      <td>2021-05-01</td>\n",
       "      <td>5</td>\n",
       "      <td>S</td>\n",
       "      <td>0</td>\n",
       "      <td>0.0</td>\n",
       "      <td>51.0</td>\n",
       "      <td>0</td>\n",
       "    </tr>\n",
       "    <tr>\n",
       "      <th>1</th>\n",
       "      <td>2021-05-02</td>\n",
       "      <td>5</td>\n",
       "      <td>S</td>\n",
       "      <td>0</td>\n",
       "      <td>0.0</td>\n",
       "      <td>51.0</td>\n",
       "      <td>0</td>\n",
       "    </tr>\n",
       "    <tr>\n",
       "      <th>2</th>\n",
       "      <td>2021-05-03</td>\n",
       "      <td>5</td>\n",
       "      <td>S</td>\n",
       "      <td>0</td>\n",
       "      <td>0.0</td>\n",
       "      <td>51.0</td>\n",
       "      <td>0</td>\n",
       "    </tr>\n",
       "    <tr>\n",
       "      <th>3</th>\n",
       "      <td>2021-05-04</td>\n",
       "      <td>5</td>\n",
       "      <td>S</td>\n",
       "      <td>0</td>\n",
       "      <td>0.0</td>\n",
       "      <td>50.0</td>\n",
       "      <td>0</td>\n",
       "    </tr>\n",
       "    <tr>\n",
       "      <th>4</th>\n",
       "      <td>2021-05-05</td>\n",
       "      <td>5</td>\n",
       "      <td>S</td>\n",
       "      <td>0</td>\n",
       "      <td>0.0</td>\n",
       "      <td>49.0</td>\n",
       "      <td>0</td>\n",
       "    </tr>\n",
       "  </tbody>\n",
       "</table>\n",
       "</div>"
      ],
      "text/plain": [
       "        date  city region  treated  tau  downloads  post\n",
       "0 2021-05-01     5      S        0  0.0       51.0     0\n",
       "1 2021-05-02     5      S        0  0.0       51.0     0\n",
       "2 2021-05-03     5      S        0  0.0       51.0     0\n",
       "3 2021-05-04     5      S        0  0.0       50.0     0\n",
       "4 2021-05-05     5      S        0  0.0       49.0     0"
      ]
     },
     "execution_count": 3,
     "metadata": {},
     "output_type": "execute_result"
    }
   ],
   "source": [
    "import pandas as pd\n",
    "import numpy as np\n",
    "\n",
    "mkt_data = (pd.read_csv(\"./data/short_offline_mkt_south.csv\")\n",
    "            .astype({\"date\":\"datetime64[ns]\"}))\n",
    "\n",
    "mkt_data.head()"
   ]
  },
  {
   "cell_type": "markdown",
   "id": "d7b53c33",
   "metadata": {},
   "source": [
    "처치 개입 전후 기간 확인"
   ]
  },
  {
   "cell_type": "code",
   "execution_count": 4,
   "id": "3d6cdba1",
   "metadata": {
    "ExecuteTime": {
     "end_time": "2024-01-20T14:39:09.608185Z",
     "start_time": "2024-01-20T14:39:09.594150Z"
    }
   },
   "outputs": [
    {
     "name": "stderr",
     "output_type": "stream",
     "text": [
      "/var/folders/qj/p1t8n_615hx2wgwh8350jg6h0000gn/T/ipykernel_14638/2583971365.py:4: FutureWarning: The provided callable <built-in function min> is currently using SeriesGroupBy.min. In a future version of pandas, the provided callable will be used directly. To keep current behavior pass the string \"min\" instead.\n",
      "  .agg({\"date\":[min, max]}))\n",
      "/var/folders/qj/p1t8n_615hx2wgwh8350jg6h0000gn/T/ipykernel_14638/2583971365.py:4: FutureWarning: The provided callable <built-in function max> is currently using SeriesGroupBy.max. In a future version of pandas, the provided callable will be used directly. To keep current behavior pass the string \"max\" instead.\n",
      "  .agg({\"date\":[min, max]}))\n"
     ]
    },
    {
     "data": {
      "text/html": [
       "<div>\n",
       "<style scoped>\n",
       "    .dataframe tbody tr th:only-of-type {\n",
       "        vertical-align: middle;\n",
       "    }\n",
       "\n",
       "    .dataframe tbody tr th {\n",
       "        vertical-align: top;\n",
       "    }\n",
       "\n",
       "    .dataframe thead tr th {\n",
       "        text-align: left;\n",
       "    }\n",
       "\n",
       "    .dataframe thead tr:last-of-type th {\n",
       "        text-align: right;\n",
       "    }\n",
       "</style>\n",
       "<table border=\"1\" class=\"dataframe\">\n",
       "  <thead>\n",
       "    <tr>\n",
       "      <th></th>\n",
       "      <th colspan=\"2\" halign=\"left\">date</th>\n",
       "    </tr>\n",
       "    <tr>\n",
       "      <th></th>\n",
       "      <th>min</th>\n",
       "      <th>max</th>\n",
       "    </tr>\n",
       "    <tr>\n",
       "      <th>w</th>\n",
       "      <th></th>\n",
       "      <th></th>\n",
       "    </tr>\n",
       "  </thead>\n",
       "  <tbody>\n",
       "    <tr>\n",
       "      <th>0</th>\n",
       "      <td>2021-05-01</td>\n",
       "      <td>2021-06-01</td>\n",
       "    </tr>\n",
       "    <tr>\n",
       "      <th>1</th>\n",
       "      <td>2021-05-15</td>\n",
       "      <td>2021-06-01</td>\n",
       "    </tr>\n",
       "  </tbody>\n",
       "</table>\n",
       "</div>"
      ],
      "text/plain": [
       "        date           \n",
       "         min        max\n",
       "w                      \n",
       "0 2021-05-01 2021-06-01\n",
       "1 2021-05-15 2021-06-01"
      ]
     },
     "execution_count": 4,
     "metadata": {},
     "output_type": "execute_result"
    }
   ],
   "source": [
    "(mkt_data\n",
    " .assign(w = lambda d: d[\"treated\"]*d[\"post\"])\n",
    " .groupby([\"w\"])\n",
    " .agg({\"date\":[min, max]}))"
   ]
  },
  {
   "cell_type": "code",
   "execution_count": 33,
   "id": "355d9c2c",
   "metadata": {
    "ExecuteTime": {
     "end_time": "2024-01-20T14:39:09.622154Z",
     "start_time": "2024-01-20T14:39:09.611867Z"
    }
   },
   "outputs": [
    {
     "data": {
      "text/html": [
       "<div>\n",
       "<style scoped>\n",
       "    .dataframe tbody tr th:only-of-type {\n",
       "        vertical-align: middle;\n",
       "    }\n",
       "\n",
       "    .dataframe tbody tr th {\n",
       "        vertical-align: top;\n",
       "    }\n",
       "\n",
       "    .dataframe thead th {\n",
       "        text-align: right;\n",
       "    }\n",
       "</style>\n",
       "<table border=\"1\" class=\"dataframe\">\n",
       "  <thead>\n",
       "    <tr style=\"text-align: right;\">\n",
       "      <th></th>\n",
       "      <th></th>\n",
       "      <th>downloads</th>\n",
       "      <th>date</th>\n",
       "    </tr>\n",
       "    <tr>\n",
       "      <th>treated</th>\n",
       "      <th>post</th>\n",
       "      <th></th>\n",
       "      <th></th>\n",
       "    </tr>\n",
       "  </thead>\n",
       "  <tbody>\n",
       "    <tr>\n",
       "      <th rowspan=\"2\" valign=\"top\">0</th>\n",
       "      <th>0</th>\n",
       "      <td>50.335034</td>\n",
       "      <td>2021-05-01</td>\n",
       "    </tr>\n",
       "    <tr>\n",
       "      <th>1</th>\n",
       "      <td>50.556878</td>\n",
       "      <td>2021-05-15</td>\n",
       "    </tr>\n",
       "    <tr>\n",
       "      <th rowspan=\"2\" valign=\"top\">1</th>\n",
       "      <th>0</th>\n",
       "      <td>50.944444</td>\n",
       "      <td>2021-05-01</td>\n",
       "    </tr>\n",
       "    <tr>\n",
       "      <th>1</th>\n",
       "      <td>51.858025</td>\n",
       "      <td>2021-05-15</td>\n",
       "    </tr>\n",
       "  </tbody>\n",
       "</table>\n",
       "</div>"
      ],
      "text/plain": [
       "              downloads       date\n",
       "treated post                      \n",
       "0       0     50.335034 2021-05-01\n",
       "        1     50.556878 2021-05-15\n",
       "1       0     50.944444 2021-05-01\n",
       "        1     51.858025 2021-05-15"
      ]
     },
     "execution_count": 33,
     "metadata": {},
     "output_type": "execute_result"
    }
   ],
   "source": [
    "did_data = (mkt_data\n",
    "            .groupby([\"treated\", \"post\"])\n",
    "            .agg({\"downloads\":\"mean\", \"date\": \"min\"}))\n",
    "\n",
    "did_data"
   ]
  },
  {
   "cell_type": "markdown",
   "id": "2614a652",
   "metadata": {},
   "source": [
    "### 이중 차분법에 대한 접근법 3가지\n",
    "1. 각 그룹별 평균을 집계 - 평균을 이용한 이중 차분법(Basic DID 2x2)\n",
    "2. 각 집단의 사전→사후 변화량을 구한 후, 두 집단의 변화량 차이를 비교 - 시간에 따른 결과 변화 값을 이용한 이중차분법\n",
    "3. 선형회귀\n",
    "    - 기본 회귀 DID\n",
    "    - Control DID (추가 통제 포함)\n",
    "    - TWFE DID (이원고정효과 포함)\n"
   ]
  },
  {
   "cell_type": "markdown",
   "id": "e911d8b1",
   "metadata": {},
   "source": [
    "#### 평균을 이용한 이중 차분법(Basic DID 2x2)"
   ]
  },
  {
   "cell_type": "code",
   "execution_count": 34,
   "id": "79bcb7fe",
   "metadata": {
    "ExecuteTime": {
     "end_time": "2024-01-20T14:39:09.632122Z",
     "start_time": "2024-01-20T14:39:09.624048Z"
    }
   },
   "outputs": [
    {
     "data": {
      "text/plain": [
       "np.float64(0.6917359536407233)"
      ]
     },
     "execution_count": 34,
     "metadata": {},
     "output_type": "execute_result"
    }
   ],
   "source": [
    "y0_est = (did_data.loc[1].loc[0, \"downloads\"] # treated baseline\n",
    "          # control evolution\n",
    "          + did_data.loc[0].diff().loc[1, \"downloads\"]) \n",
    "\n",
    "att = did_data.loc[1].loc[1, \"downloads\"] - y0_est\n",
    "att"
   ]
  },
  {
   "cell_type": "code",
   "execution_count": 35,
   "id": "b51d6822",
   "metadata": {
    "ExecuteTime": {
     "end_time": "2024-01-20T14:39:09.640871Z",
     "start_time": "2024-01-20T14:39:09.633597Z"
    }
   },
   "outputs": [
    {
     "data": {
      "text/plain": [
       "np.float64(0.7660316402518457)"
      ]
     },
     "execution_count": 35,
     "metadata": {},
     "output_type": "execute_result"
    }
   ],
   "source": [
    "mkt_data.query(\"post==1\").query(\"treated==1\")[\"tau\"].mean()"
   ]
  },
  {
   "cell_type": "markdown",
   "id": "47458e38",
   "metadata": {},
   "source": [
    "#### 시간에 따른 결과 변화 값을 이용한 이중차분법"
   ]
  },
  {
   "cell_type": "code",
   "execution_count": 36,
   "id": "10e16d8d",
   "metadata": {
    "ExecuteTime": {
     "end_time": "2024-01-20T14:39:09.656244Z",
     "start_time": "2024-01-20T14:39:09.642523Z"
    }
   },
   "outputs": [
    {
     "data": {
      "text/html": [
       "<div>\n",
       "<style scoped>\n",
       "    .dataframe tbody tr th:only-of-type {\n",
       "        vertical-align: middle;\n",
       "    }\n",
       "\n",
       "    .dataframe tbody tr th {\n",
       "        vertical-align: top;\n",
       "    }\n",
       "\n",
       "    .dataframe thead th {\n",
       "        text-align: right;\n",
       "    }\n",
       "</style>\n",
       "<table border=\"1\" class=\"dataframe\">\n",
       "  <thead>\n",
       "    <tr style=\"text-align: right;\">\n",
       "      <th></th>\n",
       "      <th>delta_y</th>\n",
       "      <th>treated</th>\n",
       "    </tr>\n",
       "    <tr>\n",
       "      <th>city</th>\n",
       "      <th></th>\n",
       "      <th></th>\n",
       "    </tr>\n",
       "  </thead>\n",
       "  <tbody>\n",
       "    <tr>\n",
       "      <th>192</th>\n",
       "      <td>0.555556</td>\n",
       "      <td>0</td>\n",
       "    </tr>\n",
       "    <tr>\n",
       "      <th>193</th>\n",
       "      <td>0.166667</td>\n",
       "      <td>0</td>\n",
       "    </tr>\n",
       "    <tr>\n",
       "      <th>195</th>\n",
       "      <td>0.420635</td>\n",
       "      <td>0</td>\n",
       "    </tr>\n",
       "    <tr>\n",
       "      <th>196</th>\n",
       "      <td>0.119048</td>\n",
       "      <td>0</td>\n",
       "    </tr>\n",
       "    <tr>\n",
       "      <th>197</th>\n",
       "      <td>1.595238</td>\n",
       "      <td>1</td>\n",
       "    </tr>\n",
       "  </tbody>\n",
       "</table>\n",
       "</div>"
      ],
      "text/plain": [
       "       delta_y  treated\n",
       "city                   \n",
       "192   0.555556        0\n",
       "193   0.166667        0\n",
       "195   0.420635        0\n",
       "196   0.119048        0\n",
       "197   1.595238        1"
      ]
     },
     "execution_count": 36,
     "metadata": {},
     "output_type": "execute_result"
    }
   ],
   "source": [
    "pre = mkt_data.query(\"post==0\").groupby(\"city\")[\"downloads\"].mean()\n",
    "post = mkt_data.query(\"post==1\").groupby(\"city\")[\"downloads\"].mean()\n",
    "\n",
    "delta_y = ((post - pre)\n",
    "           .rename(\"delta_y\")\n",
    "           .to_frame()\n",
    "           # add the treatment dummy\n",
    "           .join(mkt_data.groupby(\"city\")[\"treated\"].max()))\n",
    "\n",
    "delta_y.tail()"
   ]
  },
  {
   "cell_type": "code",
   "execution_count": 37,
   "id": "31be6542",
   "metadata": {
    "ExecuteTime": {
     "end_time": "2024-01-20T14:39:09.665299Z",
     "start_time": "2024-01-20T14:39:09.659783Z"
    }
   },
   "outputs": [
    {
     "data": {
      "text/plain": [
       "np.float64(0.6917359536407155)"
      ]
     },
     "execution_count": 37,
     "metadata": {},
     "output_type": "execute_result"
    }
   ],
   "source": [
    "(delta_y.query(\"treated==1\")[\"delta_y\"].mean() \n",
    " - delta_y.query(\"treated==0\")[\"delta_y\"].mean())"
   ]
  },
  {
   "cell_type": "markdown",
   "id": "3d9eee06",
   "metadata": {},
   "source": [
    "DID 모형에 따른 실험군과 대조군의 추세 및 실험군의 가상적(반사실적) 추세"
   ]
  },
  {
   "cell_type": "code",
   "execution_count": 38,
   "id": "ff0261df",
   "metadata": {
    "ExecuteTime": {
     "end_time": "2024-01-20T14:39:09.877683Z",
     "start_time": "2024-01-20T14:39:09.666729Z"
    },
    "tags": [
     "hide-input"
    ]
   },
   "outputs": [
    {
     "data": {
      "text/plain": [
       "<matplotlib.legend.Legend at 0x133254a90>"
      ]
     },
     "execution_count": 38,
     "metadata": {},
     "output_type": "execute_result"
    },
    {
     "data": {
      "image/png": "[encoded data removed]",
      "text/plain": [
       "<Figure size 1000x400 with 1 Axes>"
      ]
     },
     "metadata": {},
     "output_type": "display_data"
    }
   ],
   "source": [
    "did_plt = did_data.reset_index()\n",
    "\n",
    "\n",
    "plt.figure(figsize=(10,4))\n",
    "\n",
    "sns.scatterplot(data=did_plt.query(\"treated==0\"), x=\"date\", y=\"downloads\", s=100, color=\"C0\", marker=\"s\")\n",
    "sns.lineplot(data=did_plt.query(\"treated==0\"), x=\"date\", y=\"downloads\", label=\"Control\", color=\"C0\")\n",
    "\n",
    "sns.scatterplot(data=did_plt.query(\"treated==1\"), x=\"date\", y=\"downloads\", s=100, color=\"C1\", marker=\"x\")\n",
    "sns.lineplot(data=did_plt.query(\"treated==1\"), x=\"date\", y=\"downloads\", label=\"Treated\", color=\"C1\",)\n",
    "\n",
    "plt.plot(did_data.loc[1, \"date\"], [did_data.loc[1, \"downloads\"][0], y0_est], color=\"C2\", linestyle=\"dashed\", label=\"Y(0)|D=1\")\n",
    "plt.scatter(did_data.loc[1, \"date\"], [did_data.loc[1, \"downloads\"][0], y0_est], color=\"C2\", s=50)\n",
    "\n",
    "plt.xticks(rotation = 45)\n",
    "plt.legend()\n"
   ]
  },
  {
   "cell_type": "markdown",
   "id": "7d388983",
   "metadata": {},
   "source": [
    "### 선형회귀를 이용한 이중차분법(Regression DID)"
   ]
  },
  {
   "cell_type": "markdown",
   "id": "b8dd4569",
   "metadata": {},
   "source": [
    "#### 개입 전/후 기간을 하나의 블록으로 집계한 데이터"
   ]
  },
  {
   "cell_type": "code",
   "execution_count": 39,
   "id": "bead249f",
   "metadata": {
    "ExecuteTime": {
     "end_time": "2024-01-20T14:39:09.887639Z",
     "start_time": "2024-01-20T14:39:09.879115Z"
    },
    "scrolled": true
   },
   "outputs": [
    {
     "data": {
      "text/html": [
       "<div>\n",
       "<style scoped>\n",
       "    .dataframe tbody tr th:only-of-type {\n",
       "        vertical-align: middle;\n",
       "    }\n",
       "\n",
       "    .dataframe tbody tr th {\n",
       "        vertical-align: top;\n",
       "    }\n",
       "\n",
       "    .dataframe thead th {\n",
       "        text-align: right;\n",
       "    }\n",
       "</style>\n",
       "<table border=\"1\" class=\"dataframe\">\n",
       "  <thead>\n",
       "    <tr style=\"text-align: right;\">\n",
       "      <th></th>\n",
       "      <th>city</th>\n",
       "      <th>post</th>\n",
       "      <th>downloads</th>\n",
       "      <th>date</th>\n",
       "      <th>treated</th>\n",
       "    </tr>\n",
       "  </thead>\n",
       "  <tbody>\n",
       "    <tr>\n",
       "      <th>0</th>\n",
       "      <td>5</td>\n",
       "      <td>0</td>\n",
       "      <td>50.642857</td>\n",
       "      <td>2021-05-01</td>\n",
       "      <td>0</td>\n",
       "    </tr>\n",
       "    <tr>\n",
       "      <th>1</th>\n",
       "      <td>5</td>\n",
       "      <td>1</td>\n",
       "      <td>50.166667</td>\n",
       "      <td>2021-05-15</td>\n",
       "      <td>0</td>\n",
       "    </tr>\n",
       "    <tr>\n",
       "      <th>2</th>\n",
       "      <td>15</td>\n",
       "      <td>0</td>\n",
       "      <td>49.142857</td>\n",
       "      <td>2021-05-01</td>\n",
       "      <td>0</td>\n",
       "    </tr>\n",
       "    <tr>\n",
       "      <th>3</th>\n",
       "      <td>15</td>\n",
       "      <td>1</td>\n",
       "      <td>49.166667</td>\n",
       "      <td>2021-05-15</td>\n",
       "      <td>0</td>\n",
       "    </tr>\n",
       "    <tr>\n",
       "      <th>4</th>\n",
       "      <td>20</td>\n",
       "      <td>0</td>\n",
       "      <td>48.785714</td>\n",
       "      <td>2021-05-01</td>\n",
       "      <td>0</td>\n",
       "    </tr>\n",
       "  </tbody>\n",
       "</table>\n",
       "</div>"
      ],
      "text/plain": [
       "   city  post  downloads       date  treated\n",
       "0     5     0  50.642857 2021-05-01        0\n",
       "1     5     1  50.166667 2021-05-15        0\n",
       "2    15     0  49.142857 2021-05-01        0\n",
       "3    15     1  49.166667 2021-05-15        0\n",
       "4    20     0  48.785714 2021-05-01        0"
      ]
     },
     "execution_count": 39,
     "metadata": {},
     "output_type": "execute_result"
    }
   ],
   "source": [
    "did_data = (mkt_data\n",
    "            .groupby([\"city\", \"post\"])\n",
    "            .agg({\"downloads\":\"mean\", \"date\": \"min\", \"treated\": \"max\"})\n",
    "            .reset_index())\n",
    "\n",
    "did_data.head()"
   ]
  },
  {
   "cell_type": "markdown",
   "id": "6cb1e2e6",
   "metadata": {},
   "source": [
    " `statsmodels`와 `pyfixest`\n",
    "\n",
    "DID 분석을 회귀 모형으로 구현할 때,\n",
    "- **statsmodels (smf)** 은 파이썬에서 가장 널리 쓰이는 범용 회귀 패키지라 기본 구현을 설명하기에 적합하다.  \n",
    "- 그러나 DID는 본질적으로 **패널 데이터 + 고정효과(FE) + 클러스터 표준오차**가 중요하다.  \n",
    "  이를 편리하게 지원하는 패키지가 바로 **pyfixest**이다.\n",
    "\n",
    "따라서 \n",
    "- statsmodels로는 DID의 기본 원리를 쉽게 보여줄 수 있고,  \n",
    "- pyfixest로는 실제 실증연구에서 사용하는 **FE-DID, TWFE, robust SE**를 더 직관적으로 구현할 수 있다."
   ]
  },
  {
   "cell_type": "code",
   "execution_count": 40,
   "id": "54757217",
   "metadata": {
    "ExecuteTime": {
     "end_time": "2024-01-20T14:39:09.896935Z",
     "start_time": "2024-01-20T14:39:09.889021Z"
    }
   },
   "outputs": [
    {
     "data": {
      "text/plain": [
       "np.float64(0.6917359536407082)"
      ]
     },
     "execution_count": 40,
     "metadata": {},
     "output_type": "execute_result"
    }
   ],
   "source": [
    "import statsmodels.formula.api as smf\n",
    "\n",
    "smf.ols(\n",
    "    'downloads ~ treated*post', data=did_data\n",
    ").fit().params[\"treated:post\"]"
   ]
  },
  {
   "cell_type": "code",
   "execution_count": 53,
   "id": "463a35ef",
   "metadata": {},
   "outputs": [
    {
     "name": "stdout",
     "output_type": "stream",
     "text": [
      "DID estimate: 0.6917359536407451\n"
     ]
    }
   ],
   "source": [
    "import pyfixest as pf\n",
    "\n",
    "model = pf.feols(\"downloads ~ treated*post\", data=did_data)\n",
    "\n",
    "# DID 추정치 (treated:post 계수)\n",
    "coef = model.coef()[\"treated:post\"]\n",
    "print(\"DID estimate:\", coef)"
   ]
  },
  {
   "cell_type": "markdown",
   "id": "48ef6933",
   "metadata": {},
   "source": [
    "### 블록디자인을 바탕으로 한 이중차분법\n",
    "- DID를 추정할때 처치 전후로 각 값들을 그룹화하여 하지 않고 각 시점의 데이터를 모두 활용하는 방법\n",
    "- 사전 평행 추세를 검정할 수 있다는 장점이 있음\n"
   ]
  },
  {
   "cell_type": "code",
   "execution_count": 41,
   "id": "d1eed2c4",
   "metadata": {
    "ExecuteTime": {
     "end_time": "2024-01-20T14:39:11.143922Z",
     "start_time": "2024-01-20T14:39:09.915271Z"
    },
    "tags": [
     "hide-input"
    ]
   },
   "outputs": [
    {
     "name": "stderr",
     "output_type": "stream",
     "text": [
      "/var/folders/qj/p1t8n_615hx2wgwh8350jg6h0000gn/T/ipykernel_14638/2621860921.py:7: FutureWarning: The provided callable <built-in function max> is currently using SeriesGroupBy.max. In a future version of pandas, the provided callable will be used directly. To keep current behavior pass the string \"max\" instead.\n",
      "  .assign(treated=lambda d: d.groupby(\"city\")[\"treated\"].transform(max))\n",
      "INFO:matplotlib.category:Using categorical units to plot a list of strings that are all parsable as floats or dates. If these strings should be plotted as numbers, cast to the appropriate data type before plotting.\n",
      "INFO:matplotlib.category:Using categorical units to plot a list of strings that are all parsable as floats or dates. If these strings should be plotted as numbers, cast to the appropriate data type before plotting.\n",
      "INFO:matplotlib.category:Using categorical units to plot a list of strings that are all parsable as floats or dates. If these strings should be plotted as numbers, cast to the appropriate data type before plotting.\n"
     ]
    },
    {
     "data": {
      "text/plain": [
       "(array([ 0.5,  1.5,  2.5,  3.5,  4.5,  5.5,  6.5,  7.5,  8.5,  9.5, 10.5,\n",
       "        11.5, 12.5, 13.5, 14.5, 15.5, 16.5, 17.5, 18.5, 19.5, 20.5, 21.5,\n",
       "        22.5, 23.5, 24.5, 25.5, 26.5, 27.5, 28.5, 29.5, 30.5, 31.5]),\n",
       " [Text(0.5, 0, '2021-05-01'),\n",
       "  Text(1.5, 0, '2021-05-02'),\n",
       "  Text(2.5, 0, '2021-05-03'),\n",
       "  Text(3.5, 0, '2021-05-04'),\n",
       "  Text(4.5, 0, '2021-05-05'),\n",
       "  Text(5.5, 0, '2021-05-06'),\n",
       "  Text(6.5, 0, '2021-05-07'),\n",
       "  Text(7.5, 0, '2021-05-08'),\n",
       "  Text(8.5, 0, '2021-05-09'),\n",
       "  Text(9.5, 0, '2021-05-10'),\n",
       "  Text(10.5, 0, '2021-05-11'),\n",
       "  Text(11.5, 0, '2021-05-12'),\n",
       "  Text(12.5, 0, '2021-05-13'),\n",
       "  Text(13.5, 0, '2021-05-14'),\n",
       "  Text(14.5, 0, '2021-05-15'),\n",
       "  Text(15.5, 0, '2021-05-16'),\n",
       "  Text(16.5, 0, '2021-05-17'),\n",
       "  Text(17.5, 0, '2021-05-18'),\n",
       "  Text(18.5, 0, '2021-05-19'),\n",
       "  Text(19.5, 0, '2021-05-20'),\n",
       "  Text(20.5, 0, '2021-05-21'),\n",
       "  Text(21.5, 0, '2021-05-22'),\n",
       "  Text(22.5, 0, '2021-05-23'),\n",
       "  Text(23.5, 0, '2021-05-24'),\n",
       "  Text(24.5, 0, '2021-05-25'),\n",
       "  Text(25.5, 0, '2021-05-26'),\n",
       "  Text(26.5, 0, '2021-05-27'),\n",
       "  Text(27.5, 0, '2021-05-28'),\n",
       "  Text(28.5, 0, '2021-05-29'),\n",
       "  Text(29.5, 0, '2021-05-30'),\n",
       "  Text(30.5, 0, '2021-05-31'),\n",
       "  Text(31.5, 0, '2021-06-01')])"
      ]
     },
     "execution_count": 41,
     "metadata": {},
     "output_type": "execute_result"
    },
    {
     "data": {
      "image/png": "[encoded data removed]",
      "text/plain": [
       "<Figure size 900x1200 with 2 Axes>"
      ]
     },
     "metadata": {},
     "output_type": "display_data"
    }
   ],
   "source": [
    "import matplotlib.ticker as plticker\n",
    "\n",
    "\n",
    "fig, (ax1, ax2) = plt.subplots(2,1, figsize=(9, 12), sharex=True)\n",
    "\n",
    "heat_plt = (mkt_data\n",
    "            .assign(treated=lambda d: d.groupby(\"city\")[\"treated\"].transform(max))            \n",
    "            .astype({\"date\":\"str\"})\n",
    "            .assign(treated=mkt_data[\"treated\"]*mkt_data[\"post\"])\n",
    "            .pivot(index=\"city\", columns=\"date\", values=\"treated\")\n",
    "            .reset_index()\n",
    "            .sort_values(max(mkt_data[\"date\"].astype(str)), ascending=False)\n",
    "            .reset_index()\n",
    "            .drop(columns=[\"city\"])\n",
    "            .rename(columns={\"index\":\"city\"})\n",
    "            .set_index(\"city\"))\n",
    "\n",
    "\n",
    "sns.heatmap(heat_plt, cmap=\"gray\", linewidths=0.01, linecolor=\"0.5\", ax=ax1, cbar=False)\n",
    "\n",
    "ax1.set_title(\"Treatment Assignment\")\n",
    "\n",
    "\n",
    "sns.lineplot(data=mkt_data.astype({\"date\":\"str\"}),\n",
    "             x=\"date\", y=\"downloads\", hue=\"treated\", ax=ax2)\n",
    "\n",
    "loc = plticker.MultipleLocator(base=2.0)\n",
    "# ax2.xaxis.set_major_locator(loc)\n",
    "ax2.vlines(\"2021-05-15\", mkt_data[\"downloads\"].min(), mkt_data[\"downloads\"].max(), color=\"black\", ls=\"dashed\", label=\"Interv.\")\n",
    "ax2.set_title(\"Outcome Over Time\")\n",
    "\n",
    "plt.xticks(rotation = 50)"
   ]
  },
  {
   "cell_type": "code",
   "execution_count": 42,
   "id": "647b569a",
   "metadata": {
    "ExecuteTime": {
     "end_time": "2024-01-20T14:39:11.154791Z",
     "start_time": "2024-01-20T14:39:11.145888Z"
    }
   },
   "outputs": [
    {
     "data": {
      "text/plain": [
       "np.float64(0.6917359536406855)"
      ]
     },
     "execution_count": 42,
     "metadata": {},
     "output_type": "execute_result"
    }
   ],
   "source": [
    "m = smf.ols('downloads ~ treated*post', data=mkt_data).fit()\n",
    "\n",
    "m.params[\"treated:post\"]"
   ]
  },
  {
   "cell_type": "code",
   "execution_count": 52,
   "id": "03b5b503",
   "metadata": {},
   "outputs": [
    {
     "name": "stdout",
     "output_type": "stream",
     "text": [
      "DID estimate: 0.6917359536407436\n"
     ]
    }
   ],
   "source": [
    "import pyfixest as pf\n",
    "\n",
    "model = pf.feols(\"downloads ~ treated*post\", data=mkt_data)\n",
    "\n",
    "# DID 추정치 (treated:post 계수)\n",
    "coef = model.coef()[\"treated:post\"]\n",
    "print(\"DID estimate:\", coef)"
   ]
  }
 ],
 "metadata": {
  "celltoolbar": "Tags",
  "kernelspec": {
   "display_name": "fack_cl",
   "language": "python",
   "name": "python3"
  },
  "language_info": {
   "codemirror_mode": {
    "name": "ipython",
    "version": 3
   },
   "file_extension": ".py",
   "mimetype": "text/x-python",
   "name": "python",
   "nbconvert_exporter": "python",
   "pygments_lexer": "ipython3",
   "version": "3.10.16"
  },
  "toc": {
   "base_numbering": 1,
   "nav_menu": {},
   "number_sections": true,
   "sideBar": true,
   "skip_h1_title": false,
   "title_cell": "Table of Contents",
   "title_sidebar": "Contents",
   "toc_cell": false,
   "toc_position": {},
   "toc_section_display": true,
   "toc_window_display": false
  },
  "varInspector": {
   "cols": {
    "lenName": 16,
    "lenType": 16,
    "lenVar": 40
   },
   "kernels_config": {
    "python": {
     "delete_cmd_postfix": "",
     "delete_cmd_prefix": "del ",
     "library": "var_list.py",
     "varRefreshCmd": "print(var_dic_list())"
    },
    "r": {
     "delete_cmd_postfix": ") ",
     "delete_cmd_prefix": "rm(",
     "library": "var_list.r",
     "varRefreshCmd": "cat(var_dic_list()) "
    }
   },
   "types_to_exclude": [
    "module",
    "function",
    "builtin_function_or_method",
    "instance",
    "_Feature"
   ],
   "window_display": false
  }
 },
 "nbformat": 4,
 "nbformat_minor": 5
}
